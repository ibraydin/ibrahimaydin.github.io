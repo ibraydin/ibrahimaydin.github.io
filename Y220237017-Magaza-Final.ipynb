{
 "cells": [
  {
   "cell_type": "markdown",
   "id": "5a55ab0e-7fe6-4c24-9548-248193abb597",
   "metadata": {
    "_cell_guid": "b1076dfc-b9ad-4769-8c92-a6c4dae69d19",
    "_uuid": "8f2839f25d086af736a60e9eeb907d3b93b6e0e5",
    "papermill": {
     "duration": 0.048415,
     "end_time": "2022-09-26T05:40:05.760906",
     "exception": false,
     "start_time": "2022-09-26T05:40:05.712491",
     "status": "completed"
    },
    "tags": []
   },
   "source": [
    "# İbrahim AYDIN-Y220237017 Yazılım Müh. YL (Tezli) 2.Dönem \"Metin Madenciliği\" Dersi Final Ödevi - 2023"
   ]
  },
  {
   "cell_type": "markdown",
   "id": "459ce1e7-f3db-4b46-8459-7e461805dce9",
   "metadata": {
    "_cell_guid": "b1076dfc-b9ad-4769-8c92-a6c4dae69d19",
    "_uuid": "8f2839f25d086af736a60e9eeb907d3b93b6e0e5",
    "papermill": {
     "duration": 0.048415,
     "end_time": "2022-09-26T05:40:05.760906",
     "exception": false,
     "start_time": "2022-09-26T05:40:05.712491",
     "status": "completed"
    },
    "tags": []
   },
   "source": [
    "### Mağaza Yorumlarından Makine Öğrenmesi ve Regresyon Modellerinin Oluşturulması ve Doğruluk Oranlarının Karşılaştırılması"
   ]
  },
  {
   "cell_type": "code",
   "execution_count": 1,
   "id": "e574f9e1-8e4a-43c5-8efd-e2e0f013126b",
   "metadata": {
    "_cell_guid": "b1076dfc-b9ad-4769-8c92-a6c4dae69d19",
    "_uuid": "8f2839f25d086af736a60e9eeb907d3b93b6e0e5",
    "papermill": {
     "duration": 0.048415,
     "end_time": "2022-09-26T05:40:05.760906",
     "exception": false,
     "start_time": "2022-09-26T05:40:05.712491",
     "status": "completed"
    },
    "tags": []
   },
   "outputs": [],
   "source": [
    "import numpy as np \n",
    "import pandas as pd "
   ]
  },
  {
   "cell_type": "code",
   "execution_count": 2,
   "id": "2ca9dd9d",
   "metadata": {
    "papermill": {
     "duration": 0.175314,
     "end_time": "2022-09-26T05:40:05.955763",
     "exception": false,
     "start_time": "2022-09-26T05:40:05.780449",
     "status": "completed"
    },
    "tags": []
   },
   "outputs": [],
   "source": [
    "train_df = pd.read_csv(\"magaza_yorumlari_duygu_analizi.csv\",encoding = \"utf16\")\n",
    "test_df = pd.read_csv(\"magaza_yorumlari_duygu_analizi.csv\", encoding = \"utf16\")\n",
    "train_df = train_df.copy()"
   ]
  },
  {
   "cell_type": "code",
   "execution_count": 5,
   "id": "46d9e4be",
   "metadata": {
    "papermill": {
     "duration": 0.05113,
     "end_time": "2022-09-26T05:40:06.025471",
     "exception": false,
     "start_time": "2022-09-26T05:40:05.974341",
     "status": "completed"
    },
    "tags": []
   },
   "outputs": [
    {
     "data": {
      "text/html": [
       "<div>\n",
       "<style scoped>\n",
       "    .dataframe tbody tr th:only-of-type {\n",
       "        vertical-align: middle;\n",
       "    }\n",
       "\n",
       "    .dataframe tbody tr th {\n",
       "        vertical-align: top;\n",
       "    }\n",
       "\n",
       "    .dataframe thead th {\n",
       "        text-align: right;\n",
       "    }\n",
       "</style>\n",
       "<table border=\"1\" class=\"dataframe\">\n",
       "  <thead>\n",
       "    <tr style=\"text-align: right;\">\n",
       "      <th></th>\n",
       "      <th>Görüş</th>\n",
       "      <th>Durum</th>\n",
       "    </tr>\n",
       "  </thead>\n",
       "  <tbody>\n",
       "    <tr>\n",
       "      <th>0</th>\n",
       "      <td>ses kalitesi ve ergonomisi rezalet, sony olduğ...</td>\n",
       "      <td>Olumsuz</td>\n",
       "    </tr>\n",
       "    <tr>\n",
       "      <th>1</th>\n",
       "      <td>hizli teslimat tesekkürler</td>\n",
       "      <td>Tarafsız</td>\n",
       "    </tr>\n",
       "    <tr>\n",
       "      <th>2</th>\n",
       "      <td>ses olayı süper....gece çalıştır sıkıntı yok.....</td>\n",
       "      <td>Olumlu</td>\n",
       "    </tr>\n",
       "    <tr>\n",
       "      <th>3</th>\n",
       "      <td>geldi bigün kullandık hemen bozoldu hiçtavsiye...</td>\n",
       "      <td>Olumsuz</td>\n",
       "    </tr>\n",
       "    <tr>\n",
       "      <th>4</th>\n",
       "      <td>Kulaklığın sesi kaliteli falan değil. Aleti öv...</td>\n",
       "      <td>Olumsuz</td>\n",
       "    </tr>\n",
       "    <tr>\n",
       "      <th>5</th>\n",
       "      <td>Giriş seviyesindeki kullanıcılar için kabul ed...</td>\n",
       "      <td>Tarafsız</td>\n",
       "    </tr>\n",
       "    <tr>\n",
       "      <th>6</th>\n",
       "      <td>kullanisli baya</td>\n",
       "      <td>Olumlu</td>\n",
       "    </tr>\n",
       "    <tr>\n",
       "      <th>7</th>\n",
       "      <td>Dezavantajlar : Pahalı ürün&lt;br /&gt;Merhabalar bu...</td>\n",
       "      <td>Tarafsız</td>\n",
       "    </tr>\n",
       "    <tr>\n",
       "      <th>8</th>\n",
       "      <td>ÜRÜN GÜZEL BU PARALARA BAŞKA BULAMAZSINIZ</td>\n",
       "      <td>Tarafsız</td>\n",
       "    </tr>\n",
       "    <tr>\n",
       "      <th>9</th>\n",
       "      <td>Tasarım ve kalite iyi olmasına rağmen yazma hı...</td>\n",
       "      <td>Tarafsız</td>\n",
       "    </tr>\n",
       "  </tbody>\n",
       "</table>\n",
       "</div>"
      ],
      "text/plain": [
       "                                               Görüş     Durum\n",
       "0  ses kalitesi ve ergonomisi rezalet, sony olduğ...   Olumsuz\n",
       "1                         hizli teslimat tesekkürler  Tarafsız\n",
       "2  ses olayı süper....gece çalıştır sıkıntı yok.....    Olumlu\n",
       "3  geldi bigün kullandık hemen bozoldu hiçtavsiye...   Olumsuz\n",
       "4  Kulaklığın sesi kaliteli falan değil. Aleti öv...   Olumsuz\n",
       "5  Giriş seviyesindeki kullanıcılar için kabul ed...  Tarafsız\n",
       "6                                    kullanisli baya    Olumlu\n",
       "7  Dezavantajlar : Pahalı ürün<br />Merhabalar bu...  Tarafsız\n",
       "8          ÜRÜN GÜZEL BU PARALARA BAŞKA BULAMAZSINIZ  Tarafsız\n",
       "9  Tasarım ve kalite iyi olmasına rağmen yazma hı...  Tarafsız"
      ]
     },
     "execution_count": 5,
     "metadata": {},
     "output_type": "execute_result"
    }
   ],
   "source": [
    "train_df.head(10)"
   ]
  },
  {
   "cell_type": "code",
   "execution_count": 6,
   "id": "a0128237",
   "metadata": {
    "papermill": {
     "duration": 0.137892,
     "end_time": "2022-09-26T05:40:06.183556",
     "exception": false,
     "start_time": "2022-09-26T05:40:06.045664",
     "status": "completed"
    },
    "tags": []
   },
   "outputs": [],
   "source": [
    "train_df[\"Görüş\"] = train_df[\"Görüş\"].apply(lambda x: \" \".join(i.lower() for i in str(x).split()))"
   ]
  },
  {
   "cell_type": "code",
   "execution_count": 7,
   "id": "db81638b",
   "metadata": {
    "papermill": {
     "duration": 0.078165,
     "end_time": "2022-09-26T05:40:06.280513",
     "exception": false,
     "start_time": "2022-09-26T05:40:06.202348",
     "status": "completed"
    },
    "tags": []
   },
   "outputs": [
    {
     "name": "stderr",
     "output_type": "stream",
     "text": [
      "C:\\Users\\Casper\\AppData\\Local\\Temp\\ipykernel_19304\\2479347470.py:1: FutureWarning: The default value of regex will change from True to False in a future version.\n",
      "  train_df[\"Görüş\"] = train_df[\"Görüş\"].str.replace(\"[^\\w\\s]\",\"\")\n"
     ]
    }
   ],
   "source": [
    "train_df[\"Görüş\"] = train_df[\"Görüş\"].str.replace(\"[^\\w\\s]\",\"\")"
   ]
  },
  {
   "cell_type": "code",
   "execution_count": 8,
   "id": "3e9560dc",
   "metadata": {
    "papermill": {
     "duration": 0.06466,
     "end_time": "2022-09-26T05:40:06.364214",
     "exception": false,
     "start_time": "2022-09-26T05:40:06.299554",
     "status": "completed"
    },
    "tags": []
   },
   "outputs": [
    {
     "name": "stderr",
     "output_type": "stream",
     "text": [
      "C:\\Users\\Casper\\AppData\\Local\\Temp\\ipykernel_19304\\206667332.py:1: FutureWarning: The default value of regex will change from True to False in a future version.\n",
      "  train_df[\"Görüş\"] = train_df[\"Görüş\"].str.replace(\"\\d\",\"\")\n"
     ]
    }
   ],
   "source": [
    "train_df[\"Görüş\"] = train_df[\"Görüş\"].str.replace(\"\\d\",\"\")"
   ]
  },
  {
   "cell_type": "code",
   "execution_count": 9,
   "id": "d94b0c8f",
   "metadata": {
    "papermill": {
     "duration": 0.035634,
     "end_time": "2022-09-26T05:40:06.419112",
     "exception": false,
     "start_time": "2022-09-26T05:40:06.383478",
     "status": "completed"
    },
    "tags": []
   },
   "outputs": [
    {
     "data": {
      "text/html": [
       "<div>\n",
       "<style scoped>\n",
       "    .dataframe tbody tr th:only-of-type {\n",
       "        vertical-align: middle;\n",
       "    }\n",
       "\n",
       "    .dataframe tbody tr th {\n",
       "        vertical-align: top;\n",
       "    }\n",
       "\n",
       "    .dataframe thead th {\n",
       "        text-align: right;\n",
       "    }\n",
       "</style>\n",
       "<table border=\"1\" class=\"dataframe\">\n",
       "  <thead>\n",
       "    <tr style=\"text-align: right;\">\n",
       "      <th></th>\n",
       "      <th>Görüş</th>\n",
       "      <th>Durum</th>\n",
       "    </tr>\n",
       "  </thead>\n",
       "  <tbody>\n",
       "    <tr>\n",
       "      <th>0</th>\n",
       "      <td>ses kalitesi ve ergonomisi rezalet sony olduğu...</td>\n",
       "      <td>Olumsuz</td>\n",
       "    </tr>\n",
       "    <tr>\n",
       "      <th>1</th>\n",
       "      <td>hizli teslimat tesekkürler</td>\n",
       "      <td>Tarafsız</td>\n",
       "    </tr>\n",
       "    <tr>\n",
       "      <th>2</th>\n",
       "      <td>ses olayı süpergece çalıştır sıkıntı yokkablo ...</td>\n",
       "      <td>Olumlu</td>\n",
       "    </tr>\n",
       "    <tr>\n",
       "      <th>3</th>\n",
       "      <td>geldi bigün kullandık hemen bozoldu hiçtavsiye...</td>\n",
       "      <td>Olumsuz</td>\n",
       "    </tr>\n",
       "    <tr>\n",
       "      <th>4</th>\n",
       "      <td>kulaklığın sesi kaliteli falan değil aleti öve...</td>\n",
       "      <td>Olumsuz</td>\n",
       "    </tr>\n",
       "    <tr>\n",
       "      <th>...</th>\n",
       "      <td>...</td>\n",
       "      <td>...</td>\n",
       "    </tr>\n",
       "    <tr>\n",
       "      <th>11424</th>\n",
       "      <td>biraz fazla ısınıyor ama sorumsuz çalışıyor</td>\n",
       "      <td>Tarafsız</td>\n",
       "    </tr>\n",
       "    <tr>\n",
       "      <th>11425</th>\n",
       "      <td>orijinal ürün fakat ambalaj bize ulaşana kadar...</td>\n",
       "      <td>Tarafsız</td>\n",
       "    </tr>\n",
       "    <tr>\n",
       "      <th>11426</th>\n",
       "      <td>bu cihazı  yıldır kullanıyorum cihazı çok beğe...</td>\n",
       "      <td>Olumsuz</td>\n",
       "    </tr>\n",
       "    <tr>\n",
       "      <th>11427</th>\n",
       "      <td>bir sene olmadı ayar düğmesine basıyorum ekran...</td>\n",
       "      <td>Tarafsız</td>\n",
       "    </tr>\n",
       "    <tr>\n",
       "      <th>11428</th>\n",
       "      <td>urun kaliteli zamaninda tedlimat ve kullanisli...</td>\n",
       "      <td>Olumlu</td>\n",
       "    </tr>\n",
       "  </tbody>\n",
       "</table>\n",
       "<p>11429 rows × 2 columns</p>\n",
       "</div>"
      ],
      "text/plain": [
       "                                                   Görüş     Durum\n",
       "0      ses kalitesi ve ergonomisi rezalet sony olduğu...   Olumsuz\n",
       "1                             hizli teslimat tesekkürler  Tarafsız\n",
       "2      ses olayı süpergece çalıştır sıkıntı yokkablo ...    Olumlu\n",
       "3      geldi bigün kullandık hemen bozoldu hiçtavsiye...   Olumsuz\n",
       "4      kulaklığın sesi kaliteli falan değil aleti öve...   Olumsuz\n",
       "...                                                  ...       ...\n",
       "11424        biraz fazla ısınıyor ama sorumsuz çalışıyor  Tarafsız\n",
       "11425  orijinal ürün fakat ambalaj bize ulaşana kadar...  Tarafsız\n",
       "11426  bu cihazı  yıldır kullanıyorum cihazı çok beğe...   Olumsuz\n",
       "11427  bir sene olmadı ayar düğmesine basıyorum ekran...  Tarafsız\n",
       "11428  urun kaliteli zamaninda tedlimat ve kullanisli...    Olumlu\n",
       "\n",
       "[11429 rows x 2 columns]"
      ]
     },
     "execution_count": 9,
     "metadata": {},
     "output_type": "execute_result"
    }
   ],
   "source": [
    "train_df"
   ]
  },
  {
   "cell_type": "code",
   "execution_count": 10,
   "id": "0c70452d",
   "metadata": {
    "papermill": {
     "duration": 12.958162,
     "end_time": "2022-09-26T05:40:19.396727",
     "exception": false,
     "start_time": "2022-09-26T05:40:06.438565",
     "status": "completed"
    },
    "tags": []
   },
   "outputs": [
    {
     "name": "stdout",
     "output_type": "stream",
     "text": [
      "Requirement already satisfied: nltk in c:\\users\\casper\\appdata\\roaming\\python\\python39\\site-packages (3.8.1)\n",
      "Requirement already satisfied: click in c:\\programdata\\anaconda3\\lib\\site-packages (from nltk) (8.0.4)\n",
      "Requirement already satisfied: joblib in c:\\programdata\\anaconda3\\lib\\site-packages (from nltk) (1.1.0)\n",
      "Requirement already satisfied: regex>=2021.8.3 in c:\\programdata\\anaconda3\\lib\\site-packages (from nltk) (2022.3.15)\n",
      "Requirement already satisfied: tqdm in c:\\programdata\\anaconda3\\lib\\site-packages (from nltk) (4.64.0)\n",
      "Requirement already satisfied: colorama in c:\\programdata\\anaconda3\\lib\\site-packages (from click->nltk) (0.4.4)\n"
     ]
    }
   ],
   "source": [
    "!pip install nltk"
   ]
  },
  {
   "cell_type": "code",
   "execution_count": 11,
   "id": "e818e678",
   "metadata": {
    "papermill": {
     "duration": 1.988185,
     "end_time": "2022-09-26T05:40:21.404421",
     "exception": false,
     "start_time": "2022-09-26T05:40:19.416236",
     "status": "completed"
    },
    "tags": []
   },
   "outputs": [
    {
     "name": "stderr",
     "output_type": "stream",
     "text": [
      "[nltk_data] Downloading package stopwords to\n",
      "[nltk_data]     C:\\Users\\Casper\\AppData\\Roaming\\nltk_data...\n",
      "[nltk_data]   Package stopwords is already up-to-date!\n"
     ]
    }
   ],
   "source": [
    "import nltk\n",
    "nltk.download(\"stopwords\")\n",
    "from nltk.corpus import stopwords"
   ]
  },
  {
   "cell_type": "markdown",
   "id": "76d17334",
   "metadata": {
    "papermill": {
     "duration": 0.019258,
     "end_time": "2022-09-26T05:40:21.443681",
     "exception": false,
     "start_time": "2022-09-26T05:40:21.424423",
     "status": "completed"
    },
    "tags": []
   },
   "source": [
    "Bilgisayar dilinde, etkisiz kelimeler (stopwords), doğal data dilinin (text) işlenmeden önce veya sonra filtrelenmiş kelimeleridir. Kelimeler arasındaki etkileşimin daha iyi yorumlanabilmesi için bu kelimelerin yorumlardan silinmesi gerekmektedir. Listemizde türkçe için var olan etkisiz elemanları incelemek için örnek olarak \"sw\" yazarak inceleyebiliriz."
   ]
  },
  {
   "cell_type": "code",
   "execution_count": 12,
   "id": "b41857ac",
   "metadata": {
    "papermill": {
     "duration": 0.031286,
     "end_time": "2022-09-26T05:40:21.494767",
     "exception": false,
     "start_time": "2022-09-26T05:40:21.463481",
     "status": "completed"
    },
    "tags": []
   },
   "outputs": [],
   "source": [
    "sw = stopwords.words(\"turkish\")"
   ]
  },
  {
   "cell_type": "code",
   "execution_count": 13,
   "id": "1a77fd75",
   "metadata": {
    "papermill": {
     "duration": 0.028458,
     "end_time": "2022-09-26T05:40:21.542764",
     "exception": false,
     "start_time": "2022-09-26T05:40:21.514306",
     "status": "completed"
    },
    "tags": []
   },
   "outputs": [],
   "source": [
    "sw.append(\"bir\")"
   ]
  },
  {
   "cell_type": "code",
   "execution_count": 14,
   "id": "0d61f9c3",
   "metadata": {
    "papermill": {
     "duration": 0.312682,
     "end_time": "2022-09-26T05:40:21.874993",
     "exception": false,
     "start_time": "2022-09-26T05:40:21.562311",
     "status": "completed"
    },
    "tags": []
   },
   "outputs": [],
   "source": [
    "train_df[\"Görüş\"] = train_df[\"Görüş\"].apply(lambda x: \" \".join(x for x in x.split() if x not in sw))"
   ]
  },
  {
   "cell_type": "code",
   "execution_count": 15,
   "id": "e7018f8e",
   "metadata": {
    "papermill": {
     "duration": 0.145563,
     "end_time": "2022-09-26T05:40:22.040095",
     "exception": false,
     "start_time": "2022-09-26T05:40:21.894532",
     "status": "completed"
    },
    "tags": []
   },
   "outputs": [
    {
     "data": {
      "text/plain": [
       "35941"
      ]
     },
     "execution_count": 15,
     "metadata": {},
     "output_type": "execute_result"
    }
   ],
   "source": [
    "len(pd.Series(\" \".join(train_df[\"Görüş\"]).split()).value_counts())"
   ]
  },
  {
   "cell_type": "markdown",
   "id": "b8c7541d",
   "metadata": {
    "papermill": {
     "duration": 0.019745,
     "end_time": "2022-09-26T05:40:22.080473",
     "exception": false,
     "start_time": "2022-09-26T05:40:22.060728",
     "status": "completed"
    },
    "tags": []
   },
   "source": [
    "## TOKENIZATION\n"
   ]
  },
  {
   "cell_type": "markdown",
   "id": "c2a4bcff",
   "metadata": {
    "papermill": {
     "duration": 0.01911,
     "end_time": "2022-09-26T05:40:22.119106",
     "exception": false,
     "start_time": "2022-09-26T05:40:22.099996",
     "status": "completed"
    },
    "tags": []
   },
   "source": [
    "Bütün bir yazıyı oluşturan her bir sözcüğü ayırma işlemidir. Yorumlarda geçen kelimeler parçalanarak liste halinde tutulur."
   ]
  },
  {
   "cell_type": "code",
   "execution_count": 16,
   "id": "ae504ee7",
   "metadata": {
    "papermill": {
     "duration": 11.113063,
     "end_time": "2022-09-26T05:40:33.251863",
     "exception": false,
     "start_time": "2022-09-26T05:40:22.138800",
     "status": "completed"
    },
    "tags": []
   },
   "outputs": [
    {
     "name": "stdout",
     "output_type": "stream",
     "text": [
      "Requirement already satisfied: textblob in c:\\programdata\\anaconda3\\lib\\site-packages (0.17.1)\n",
      "Requirement already satisfied: nltk>=3.1 in c:\\users\\casper\\appdata\\roaming\\python\\python39\\site-packages (from textblob) (3.8.1)\n",
      "Requirement already satisfied: click in c:\\programdata\\anaconda3\\lib\\site-packages (from nltk>=3.1->textblob) (8.0.4)\n",
      "Requirement already satisfied: joblib in c:\\programdata\\anaconda3\\lib\\site-packages (from nltk>=3.1->textblob) (1.1.0)\n",
      "Requirement already satisfied: regex>=2021.8.3 in c:\\programdata\\anaconda3\\lib\\site-packages (from nltk>=3.1->textblob) (2022.3.15)\n",
      "Requirement already satisfied: tqdm in c:\\programdata\\anaconda3\\lib\\site-packages (from nltk>=3.1->textblob) (4.64.0)\n",
      "Requirement already satisfied: colorama in c:\\programdata\\anaconda3\\lib\\site-packages (from click->nltk>=3.1->textblob) (0.4.4)\n"
     ]
    }
   ],
   "source": [
    "!pip install textblob"
   ]
  },
  {
   "cell_type": "code",
   "execution_count": 17,
   "id": "527a27e9",
   "metadata": {
    "papermill": {
     "duration": 0.081051,
     "end_time": "2022-09-26T05:40:33.353453",
     "exception": false,
     "start_time": "2022-09-26T05:40:33.272402",
     "status": "completed"
    },
    "tags": []
   },
   "outputs": [],
   "source": [
    "import textblob\n",
    "from textblob import TextBlob"
   ]
  },
  {
   "cell_type": "code",
   "execution_count": 18,
   "id": "f4af3311",
   "metadata": {
    "papermill": {
     "duration": 3.349056,
     "end_time": "2022-09-26T05:40:36.722430",
     "exception": false,
     "start_time": "2022-09-26T05:40:33.373374",
     "status": "completed"
    },
    "tags": []
   },
   "outputs": [],
   "source": [
    "train_df[\"Görüş\"] = train_df[\"Görüş\"] = train_df[\"Görüş\"].apply(lambda x: TextBlob(x).words)"
   ]
  },
  {
   "cell_type": "markdown",
   "id": "3d9bdcf5",
   "metadata": {
    "papermill": {
     "duration": 0.019483,
     "end_time": "2022-09-26T05:40:36.762781",
     "exception": false,
     "start_time": "2022-09-26T05:40:36.743298",
     "status": "completed"
    },
    "tags": []
   },
   "source": [
    "## STEMMING "
   ]
  },
  {
   "cell_type": "markdown",
   "id": "956c259d",
   "metadata": {
    "papermill": {
     "duration": 0.019502,
     "end_time": "2022-09-26T05:40:36.802154",
     "exception": false,
     "start_time": "2022-09-26T05:40:36.782652",
     "status": "completed"
    },
    "tags": []
   },
   "source": [
    "Yorumlar içinde var olan kelimelerin köklerini bularak eklerini silerek eksiz halini oluşturur. Türkçe desteği tam sağlanmadığı için aşağılarda göreceğimiz görselleştirme işlemlerinde bazı kelimelerin köklerinin bulunamadığı görüldü."
   ]
  },
  {
   "cell_type": "code",
   "execution_count": 19,
   "id": "2aa0f332",
   "metadata": {
    "papermill": {
     "duration": 11.13834,
     "end_time": "2022-09-26T05:40:47.960297",
     "exception": false,
     "start_time": "2022-09-26T05:40:36.821957",
     "status": "completed"
    },
    "tags": []
   },
   "outputs": [
    {
     "name": "stdout",
     "output_type": "stream",
     "text": [
      "Requirement already satisfied: snowballstemmer in c:\\programdata\\anaconda3\\lib\\site-packages (2.2.0)\n"
     ]
    }
   ],
   "source": [
    "!pip install snowballstemmer"
   ]
  },
  {
   "cell_type": "code",
   "execution_count": 20,
   "id": "f422fd7f",
   "metadata": {
    "papermill": {
     "duration": 0.08639,
     "end_time": "2022-09-26T05:40:48.067189",
     "exception": false,
     "start_time": "2022-09-26T05:40:47.980799",
     "status": "completed"
    },
    "tags": []
   },
   "outputs": [],
   "source": [
    "from snowballstemmer import TurkishStemmer\n",
    "turkStem=TurkishStemmer()"
   ]
  },
  {
   "cell_type": "code",
   "execution_count": 21,
   "id": "b66e503f",
   "metadata": {
    "papermill": {
     "duration": 0.030701,
     "end_time": "2022-09-26T05:40:48.118494",
     "exception": false,
     "start_time": "2022-09-26T05:40:48.087793",
     "status": "completed"
    },
    "tags": []
   },
   "outputs": [
    {
     "data": {
      "text/plain": [
       "\u001b[1;31mType:\u001b[0m        TurkishStemmer\n",
       "\u001b[1;31mString form:\u001b[0m <snowballstemmer.turkish_stemmer.TurkishStemmer object at 0x00000204445AAB50>\n",
       "\u001b[1;31mFile:\u001b[0m        c:\\programdata\\anaconda3\\lib\\site-packages\\snowballstemmer\\turkish_stemmer.py\n",
       "\u001b[1;31mDocstring:\u001b[0m  \n",
       "This class implements the stemming algorithm defined by a snowball script.\n",
       "Generated by Snowball 2.2.0 - https://snowballstem.org/\n"
      ]
     },
     "metadata": {},
     "output_type": "display_data"
    }
   ],
   "source": [
    "?turkStem"
   ]
  },
  {
   "cell_type": "code",
   "execution_count": 22,
   "id": "7c365e24",
   "metadata": {
    "papermill": {
     "duration": 65.311871,
     "end_time": "2022-09-26T05:41:53.450411",
     "exception": false,
     "start_time": "2022-09-26T05:40:48.138540",
     "status": "completed"
    },
    "tags": []
   },
   "outputs": [],
   "source": [
    "train_df[\"Görüş\"] = train_df[\"Görüş\"].apply(lambda x: \" \".join(turkStem.stemWord(i) for i in str(x).split()))"
   ]
  },
  {
   "cell_type": "markdown",
   "id": "f07f8591",
   "metadata": {
    "papermill": {
     "duration": 0.019913,
     "end_time": "2022-09-26T05:41:53.491138",
     "exception": false,
     "start_time": "2022-09-26T05:41:53.471225",
     "status": "completed"
    },
    "tags": []
   },
   "source": [
    "## NLP UYGULAMALARI"
   ]
  },
  {
   "cell_type": "code",
   "execution_count": 23,
   "id": "987b0ad6",
   "metadata": {
    "papermill": {
     "duration": 0.041644,
     "end_time": "2022-09-26T05:41:53.553130",
     "exception": false,
     "start_time": "2022-09-26T05:41:53.511486",
     "status": "completed"
    },
    "tags": []
   },
   "outputs": [
    {
     "data": {
      "text/plain": [
       "[WordList(['0', \"'ses\", \"'kalitesi\"]),\n",
       " WordList([\"'ses\", \"'kalitesi\", \"'ergonomisi\"]),\n",
       " WordList([\"'kalitesi\", \"'ergonomisi\", \"'rezalet\"]),\n",
       " WordList([\"'ergonomisi\", \"'rezalet\", '1']),\n",
       " WordList([\"'rezalet\", '1', \"'hizli\"]),\n",
       " WordList(['1', \"'hizli\", \"'teslimat\"]),\n",
       " WordList([\"'hizli\", \"'teslimat\", \"'tesekkürler\"]),\n",
       " WordList([\"'teslimat\", \"'tesekkürler\", '2']),\n",
       " WordList([\"'tesekkürler\", '2', \"'ses\"]),\n",
       " WordList(['2', \"'ses\", \"'olayı\"]),\n",
       " WordList([\"'ses\", \"'olayı\", \"'süpergece\"]),\n",
       " WordList([\"'olayı\", \"'süpergece\", \"'çalıştır\"]),\n",
       " WordList([\"'süpergece\", \"'çalıştır\", \"'sık\"]),\n",
       " WordList([\"'çalıştır\", \"'sık\", '3']),\n",
       " WordList([\"'sık\", '3', \"'geldi\"]),\n",
       " WordList(['3', \"'geldi\", \"'bigün\"]),\n",
       " WordList([\"'geldi\", \"'bigün\", \"'kullandık\"]),\n",
       " WordList([\"'bigün\", \"'kullandık\", \"'hemen\"]),\n",
       " WordList([\"'kullandık\", \"'hemen\", \"'bozo\"]),\n",
       " WordList([\"'hemen\", \"'bozo\", '4']),\n",
       " WordList([\"'bozo\", '4', \"'kulaklığın\"]),\n",
       " WordList(['4', \"'kulaklığın\", \"'sesi\"]),\n",
       " WordList([\"'kulaklığın\", \"'sesi\", \"'kaliteli\"]),\n",
       " WordList([\"'sesi\", \"'kaliteli\", \"'falan\"]),\n",
       " WordList([\"'kaliteli\", \"'falan\", \"'d\"]),\n",
       " WordList([\"'falan\", \"'d\", '11424']),\n",
       " WordList([\"'d\", '11424', \"'biraz\"]),\n",
       " WordList(['11424', \"'biraz\", \"'fazla\"]),\n",
       " WordList([\"'biraz\", \"'fazla\", \"'ısınıyor\"]),\n",
       " WordList([\"'fazla\", \"'ısınıyor\", \"'sorumsuz\"]),\n",
       " WordList([\"'ısınıyor\", \"'sorumsuz\", \"'ça\"]),\n",
       " WordList([\"'sorumsuz\", \"'ça\", '11425']),\n",
       " WordList([\"'ça\", '11425', \"'orijinal\"]),\n",
       " WordList(['11425', \"'orijinal\", \"'ürün\"]),\n",
       " WordList([\"'orijinal\", \"'ürün\", \"'fakat\"]),\n",
       " WordList([\"'ürün\", \"'fakat\", \"'ambalaj\"]),\n",
       " WordList([\"'fakat\", \"'ambalaj\", \"'bize\"]),\n",
       " WordList([\"'ambalaj\", \"'bize\", '11426']),\n",
       " WordList([\"'bize\", '11426', \"'cihazı\"]),\n",
       " WordList(['11426', \"'cihazı\", \"'yıldır\"]),\n",
       " WordList([\"'cihazı\", \"'yıldır\", \"'kullanıyorum\"]),\n",
       " WordList([\"'yıldır\", \"'kullanıyorum\", \"'cihazı\"]),\n",
       " WordList([\"'kullanıyorum\", \"'cihazı\", '11427']),\n",
       " WordList([\"'cihazı\", '11427', \"'sene\"]),\n",
       " WordList(['11427', \"'sene\", \"'olmadı\"]),\n",
       " WordList([\"'sene\", \"'olmadı\", \"'ayar\"]),\n",
       " WordList([\"'olmadı\", \"'ayar\", \"'düğmesine\"]),\n",
       " WordList([\"'ayar\", \"'düğmesine\", \"'basıy\"]),\n",
       " WordList([\"'düğmesine\", \"'basıy\", '11428']),\n",
       " WordList([\"'basıy\", '11428', \"'urun\"]),\n",
       " WordList(['11428', \"'urun\", \"'kaliteli\"]),\n",
       " WordList([\"'urun\", \"'kaliteli\", \"'zamaninda\"]),\n",
       " WordList([\"'kaliteli\", \"'zamaninda\", \"'tedlimat\"]),\n",
       " WordList([\"'zamaninda\", \"'tedlimat\", 'Name']),\n",
       " WordList([\"'tedlimat\", 'Name', 'Görüş']),\n",
       " WordList(['Name', 'Görüş', 'Length']),\n",
       " WordList(['Görüş', 'Length', '11429']),\n",
       " WordList(['Length', '11429', 'dtype']),\n",
       " WordList(['11429', 'dtype', 'object'])]"
      ]
     },
     "execution_count": 23,
     "metadata": {},
     "output_type": "execute_result"
    }
   ],
   "source": [
    "TextBlob(str(train_df[\"Görüş\"])).ngrams(3)"
   ]
  },
  {
   "cell_type": "markdown",
   "id": "49e3a544",
   "metadata": {
    "papermill": {
     "duration": 0.022747,
     "end_time": "2022-09-26T05:41:53.596458",
     "exception": false,
     "start_time": "2022-09-26T05:41:53.573711",
     "status": "completed"
    },
    "tags": []
   },
   "source": [
    "## Part of speech tagging (POS)"
   ]
  },
  {
   "cell_type": "code",
   "execution_count": 24,
   "id": "0d8a8c08",
   "metadata": {
    "papermill": {
     "duration": 51.659203,
     "end_time": "2022-09-26T05:42:45.277789",
     "exception": false,
     "start_time": "2022-09-26T05:41:53.618586",
     "status": "completed"
    },
    "tags": []
   },
   "outputs": [
    {
     "name": "stderr",
     "output_type": "stream",
     "text": [
      "[nltk_data] Downloading package averaged_perceptron_tagger to\n",
      "[nltk_data]     C:\\Users\\Casper\\AppData\\Roaming\\nltk_data...\n",
      "[nltk_data]   Package averaged_perceptron_tagger is already up-to-\n",
      "[nltk_data]       date!\n"
     ]
    },
    {
     "data": {
      "text/plain": [
       "0        [([, JJ), ('ses, NNS), (', POS), ('kalitesi, N...\n",
       "1        [([, JJ), ('hizli, NNP), (', POS), ('teslimat,...\n",
       "2        [([, JJ), ('ses, NNS), (', POS), ('olayı, NNP)...\n",
       "3        [([, JJ), ('geldi, NNP), (', POS), ('bigün, NN...\n",
       "4        [([, JJ), ('kulaklığın, NNP), (', POS), ('sesi...\n",
       "                               ...                        \n",
       "11424    [([, JJ), ('biraz, NNP), (', POS), ('fazla, NN...\n",
       "11425    [([, JJ), ('orijinal, NNP), (', POS), ('ürün, ...\n",
       "11426    [([, JJ), ('cihazı, NNP), (', POS), ('yıldır, ...\n",
       "11427    [([, JJ), ('sene, NNP), (', POS), ('olmadı, NN...\n",
       "11428    [([, JJ), ('urun, NNP), (', POS), ('zamaninda,...\n",
       "Name: Görüş, Length: 11429, dtype: object"
      ]
     },
     "execution_count": 24,
     "metadata": {},
     "output_type": "execute_result"
    }
   ],
   "source": [
    "nltk.download(\"averaged_perceptron_tagger\")\n",
    "train_df[\"Görüş\"].apply(lambda x: TextBlob(str(x)).tags)"
   ]
  },
  {
   "cell_type": "markdown",
   "id": "13a6f63b",
   "metadata": {
    "papermill": {
     "duration": 0.020036,
     "end_time": "2022-09-26T05:42:45.318431",
     "exception": false,
     "start_time": "2022-09-26T05:42:45.298395",
     "status": "completed"
    },
    "tags": []
   },
   "source": [
    "## BASİT MATEMATİKSEL İŞLEMER"
   ]
  },
  {
   "cell_type": "code",
   "execution_count": 25,
   "id": "8bf2416c",
   "metadata": {
    "papermill": {
     "duration": 0.029536,
     "end_time": "2022-09-26T05:42:45.368384",
     "exception": false,
     "start_time": "2022-09-26T05:42:45.338848",
     "status": "completed"
    },
    "tags": []
   },
   "outputs": [],
   "source": [
    "math_train_df = train_df.copy()"
   ]
  },
  {
   "cell_type": "code",
   "execution_count": 26,
   "id": "dcf96131",
   "metadata": {
    "papermill": {
     "duration": 0.049536,
     "end_time": "2022-09-26T05:42:45.438641",
     "exception": false,
     "start_time": "2022-09-26T05:42:45.389105",
     "status": "completed"
    },
    "tags": []
   },
   "outputs": [
    {
     "data": {
      "text/html": [
       "<div>\n",
       "<style scoped>\n",
       "    .dataframe tbody tr th:only-of-type {\n",
       "        vertical-align: middle;\n",
       "    }\n",
       "\n",
       "    .dataframe tbody tr th {\n",
       "        vertical-align: top;\n",
       "    }\n",
       "\n",
       "    .dataframe thead th {\n",
       "        text-align: right;\n",
       "    }\n",
       "</style>\n",
       "<table border=\"1\" class=\"dataframe\">\n",
       "  <thead>\n",
       "    <tr style=\"text-align: right;\">\n",
       "      <th></th>\n",
       "      <th>Görüş</th>\n",
       "      <th>Durum</th>\n",
       "      <th>harf_sayisi</th>\n",
       "    </tr>\n",
       "  </thead>\n",
       "  <tbody>\n",
       "    <tr>\n",
       "      <th>0</th>\n",
       "      <td>['ses', 'kalitesi', 'ergonomisi', 'rezalet', '...</td>\n",
       "      <td>Olumsuz</td>\n",
       "      <td>169</td>\n",
       "    </tr>\n",
       "    <tr>\n",
       "      <th>1</th>\n",
       "      <td>['hizli', 'teslimat', 'tesekkürler']</td>\n",
       "      <td>Tarafsız</td>\n",
       "      <td>36</td>\n",
       "    </tr>\n",
       "    <tr>\n",
       "      <th>2</th>\n",
       "      <td>['ses', 'olayı', 'süpergece', 'çalıştır', 'sık...</td>\n",
       "      <td>Olumlu</td>\n",
       "      <td>204</td>\n",
       "    </tr>\n",
       "    <tr>\n",
       "      <th>3</th>\n",
       "      <td>['geldi', 'bigün', 'kullandık', 'hemen', 'bozo...</td>\n",
       "      <td>Olumsuz</td>\n",
       "      <td>74</td>\n",
       "    </tr>\n",
       "    <tr>\n",
       "      <th>4</th>\n",
       "      <td>['kulaklığın', 'sesi', 'kaliteli', 'falan', 'd...</td>\n",
       "      <td>Olumsuz</td>\n",
       "      <td>485</td>\n",
       "    </tr>\n",
       "    <tr>\n",
       "      <th>...</th>\n",
       "      <td>...</td>\n",
       "      <td>...</td>\n",
       "      <td>...</td>\n",
       "    </tr>\n",
       "    <tr>\n",
       "      <th>11424</th>\n",
       "      <td>['biraz', 'fazla', 'ısınıyor', 'sorumsuz', 'ça...</td>\n",
       "      <td>Tarafsız</td>\n",
       "      <td>55</td>\n",
       "    </tr>\n",
       "    <tr>\n",
       "      <th>11425</th>\n",
       "      <td>['orijinal', 'ürün', 'fakat', 'ambalaj', 'bize...</td>\n",
       "      <td>Tarafsız</td>\n",
       "      <td>95</td>\n",
       "    </tr>\n",
       "    <tr>\n",
       "      <th>11426</th>\n",
       "      <td>['cihazı', 'yıldır', 'kullanıyorum', 'cihazı',...</td>\n",
       "      <td>Olumsuz</td>\n",
       "      <td>244</td>\n",
       "    </tr>\n",
       "    <tr>\n",
       "      <th>11427</th>\n",
       "      <td>['sene', 'olmadı', 'ayar', 'düğmesine', 'basıy...</td>\n",
       "      <td>Tarafsız</td>\n",
       "      <td>81</td>\n",
       "    </tr>\n",
       "    <tr>\n",
       "      <th>11428</th>\n",
       "      <td>['urun', 'kaliteli', 'zamaninda', 'tedlimat', ...</td>\n",
       "      <td>Olumlu</td>\n",
       "      <td>101</td>\n",
       "    </tr>\n",
       "  </tbody>\n",
       "</table>\n",
       "<p>11429 rows × 3 columns</p>\n",
       "</div>"
      ],
      "text/plain": [
       "                                                   Görüş     Durum  \\\n",
       "0      ['ses', 'kalitesi', 'ergonomisi', 'rezalet', '...   Olumsuz   \n",
       "1                   ['hizli', 'teslimat', 'tesekkürler']  Tarafsız   \n",
       "2      ['ses', 'olayı', 'süpergece', 'çalıştır', 'sık...    Olumlu   \n",
       "3      ['geldi', 'bigün', 'kullandık', 'hemen', 'bozo...   Olumsuz   \n",
       "4      ['kulaklığın', 'sesi', 'kaliteli', 'falan', 'd...   Olumsuz   \n",
       "...                                                  ...       ...   \n",
       "11424  ['biraz', 'fazla', 'ısınıyor', 'sorumsuz', 'ça...  Tarafsız   \n",
       "11425  ['orijinal', 'ürün', 'fakat', 'ambalaj', 'bize...  Tarafsız   \n",
       "11426  ['cihazı', 'yıldır', 'kullanıyorum', 'cihazı',...   Olumsuz   \n",
       "11427  ['sene', 'olmadı', 'ayar', 'düğmesine', 'basıy...  Tarafsız   \n",
       "11428  ['urun', 'kaliteli', 'zamaninda', 'tedlimat', ...    Olumlu   \n",
       "\n",
       "       harf_sayisi  \n",
       "0              169  \n",
       "1               36  \n",
       "2              204  \n",
       "3               74  \n",
       "4              485  \n",
       "...            ...  \n",
       "11424           55  \n",
       "11425           95  \n",
       "11426          244  \n",
       "11427           81  \n",
       "11428          101  \n",
       "\n",
       "[11429 rows x 3 columns]"
      ]
     },
     "execution_count": 26,
     "metadata": {},
     "output_type": "execute_result"
    }
   ],
   "source": [
    "math_train_df[\"harf_sayisi\"] = math_train_df[\"Görüş\"].str.len()\n",
    "math_train_df"
   ]
  },
  {
   "cell_type": "code",
   "execution_count": 27,
   "id": "b3a752d6",
   "metadata": {
    "papermill": {
     "duration": 0.071699,
     "end_time": "2022-09-26T05:42:45.531375",
     "exception": false,
     "start_time": "2022-09-26T05:42:45.459676",
     "status": "completed"
    },
    "tags": []
   },
   "outputs": [
    {
     "data": {
      "text/html": [
       "<div>\n",
       "<style scoped>\n",
       "    .dataframe tbody tr th:only-of-type {\n",
       "        vertical-align: middle;\n",
       "    }\n",
       "\n",
       "    .dataframe tbody tr th {\n",
       "        vertical-align: top;\n",
       "    }\n",
       "\n",
       "    .dataframe thead th {\n",
       "        text-align: right;\n",
       "    }\n",
       "</style>\n",
       "<table border=\"1\" class=\"dataframe\">\n",
       "  <thead>\n",
       "    <tr style=\"text-align: right;\">\n",
       "      <th></th>\n",
       "      <th>Görüş</th>\n",
       "      <th>Durum</th>\n",
       "      <th>harf_sayisi</th>\n",
       "      <th>kelime_sayisi</th>\n",
       "    </tr>\n",
       "  </thead>\n",
       "  <tbody>\n",
       "    <tr>\n",
       "      <th>0</th>\n",
       "      <td>['ses', 'kalitesi', 'ergonomisi', 'rezalet', '...</td>\n",
       "      <td>Olumsuz</td>\n",
       "      <td>169</td>\n",
       "      <td>16</td>\n",
       "    </tr>\n",
       "    <tr>\n",
       "      <th>1</th>\n",
       "      <td>['hizli', 'teslimat', 'tesekkürler']</td>\n",
       "      <td>Tarafsız</td>\n",
       "      <td>36</td>\n",
       "      <td>3</td>\n",
       "    </tr>\n",
       "    <tr>\n",
       "      <th>2</th>\n",
       "      <td>['ses', 'olayı', 'süpergece', 'çalıştır', 'sık...</td>\n",
       "      <td>Olumlu</td>\n",
       "      <td>204</td>\n",
       "      <td>19</td>\n",
       "    </tr>\n",
       "    <tr>\n",
       "      <th>3</th>\n",
       "      <td>['geldi', 'bigün', 'kullandık', 'hemen', 'bozo...</td>\n",
       "      <td>Olumsuz</td>\n",
       "      <td>74</td>\n",
       "      <td>7</td>\n",
       "    </tr>\n",
       "    <tr>\n",
       "      <th>4</th>\n",
       "      <td>['kulaklığın', 'sesi', 'kaliteli', 'falan', 'd...</td>\n",
       "      <td>Olumsuz</td>\n",
       "      <td>485</td>\n",
       "      <td>49</td>\n",
       "    </tr>\n",
       "    <tr>\n",
       "      <th>...</th>\n",
       "      <td>...</td>\n",
       "      <td>...</td>\n",
       "      <td>...</td>\n",
       "      <td>...</td>\n",
       "    </tr>\n",
       "    <tr>\n",
       "      <th>11424</th>\n",
       "      <td>['biraz', 'fazla', 'ısınıyor', 'sorumsuz', 'ça...</td>\n",
       "      <td>Tarafsız</td>\n",
       "      <td>55</td>\n",
       "      <td>5</td>\n",
       "    </tr>\n",
       "    <tr>\n",
       "      <th>11425</th>\n",
       "      <td>['orijinal', 'ürün', 'fakat', 'ambalaj', 'bize...</td>\n",
       "      <td>Tarafsız</td>\n",
       "      <td>95</td>\n",
       "      <td>10</td>\n",
       "    </tr>\n",
       "    <tr>\n",
       "      <th>11426</th>\n",
       "      <td>['cihazı', 'yıldır', 'kullanıyorum', 'cihazı',...</td>\n",
       "      <td>Olumsuz</td>\n",
       "      <td>244</td>\n",
       "      <td>23</td>\n",
       "    </tr>\n",
       "    <tr>\n",
       "      <th>11427</th>\n",
       "      <td>['sene', 'olmadı', 'ayar', 'düğmesine', 'basıy...</td>\n",
       "      <td>Tarafsız</td>\n",
       "      <td>81</td>\n",
       "      <td>8</td>\n",
       "    </tr>\n",
       "    <tr>\n",
       "      <th>11428</th>\n",
       "      <td>['urun', 'kaliteli', 'zamaninda', 'tedlimat', ...</td>\n",
       "      <td>Olumlu</td>\n",
       "      <td>101</td>\n",
       "      <td>9</td>\n",
       "    </tr>\n",
       "  </tbody>\n",
       "</table>\n",
       "<p>11429 rows × 4 columns</p>\n",
       "</div>"
      ],
      "text/plain": [
       "                                                   Görüş     Durum  \\\n",
       "0      ['ses', 'kalitesi', 'ergonomisi', 'rezalet', '...   Olumsuz   \n",
       "1                   ['hizli', 'teslimat', 'tesekkürler']  Tarafsız   \n",
       "2      ['ses', 'olayı', 'süpergece', 'çalıştır', 'sık...    Olumlu   \n",
       "3      ['geldi', 'bigün', 'kullandık', 'hemen', 'bozo...   Olumsuz   \n",
       "4      ['kulaklığın', 'sesi', 'kaliteli', 'falan', 'd...   Olumsuz   \n",
       "...                                                  ...       ...   \n",
       "11424  ['biraz', 'fazla', 'ısınıyor', 'sorumsuz', 'ça...  Tarafsız   \n",
       "11425  ['orijinal', 'ürün', 'fakat', 'ambalaj', 'bize...  Tarafsız   \n",
       "11426  ['cihazı', 'yıldır', 'kullanıyorum', 'cihazı',...   Olumsuz   \n",
       "11427  ['sene', 'olmadı', 'ayar', 'düğmesine', 'basıy...  Tarafsız   \n",
       "11428  ['urun', 'kaliteli', 'zamaninda', 'tedlimat', ...    Olumlu   \n",
       "\n",
       "       harf_sayisi  kelime_sayisi  \n",
       "0              169             16  \n",
       "1               36              3  \n",
       "2              204             19  \n",
       "3               74              7  \n",
       "4              485             49  \n",
       "...            ...            ...  \n",
       "11424           55              5  \n",
       "11425           95             10  \n",
       "11426          244             23  \n",
       "11427           81              8  \n",
       "11428          101              9  \n",
       "\n",
       "[11429 rows x 4 columns]"
      ]
     },
     "execution_count": 27,
     "metadata": {},
     "output_type": "execute_result"
    }
   ],
   "source": [
    "math_train_df[\"kelime_sayisi\"] = math_train_df[\"Görüş\"].apply(lambda x: len(str(x).split(\",\")))\n",
    "math_train_df"
   ]
  },
  {
   "cell_type": "markdown",
   "id": "41e665fe",
   "metadata": {
    "execution": {
     "iopub.execute_input": "2022-09-23T05:40:25.995746Z",
     "iopub.status.busy": "2022-09-23T05:40:25.995392Z",
     "iopub.status.idle": "2022-09-23T05:40:26.002216Z",
     "shell.execute_reply": "2022-09-23T05:40:26.000829Z",
     "shell.execute_reply.started": "2022-09-23T05:40:25.995721Z"
    },
    "papermill": {
     "duration": 0.020624,
     "end_time": "2022-09-26T05:42:45.572943",
     "exception": false,
     "start_time": "2022-09-26T05:42:45.552319",
     "status": "completed"
    },
    "tags": []
   },
   "source": [
    "## TARAFSIZ OLAN YORUMLARIN SİLİNMESİ"
   ]
  },
  {
   "cell_type": "code",
   "execution_count": 28,
   "id": "23c43ed1",
   "metadata": {
    "papermill": {
     "duration": 0.04866,
     "end_time": "2022-09-26T05:42:45.642538",
     "exception": false,
     "start_time": "2022-09-26T05:42:45.593878",
     "status": "completed"
    },
    "tags": []
   },
   "outputs": [
    {
     "data": {
      "text/html": [
       "<div>\n",
       "<style scoped>\n",
       "    .dataframe tbody tr th:only-of-type {\n",
       "        vertical-align: middle;\n",
       "    }\n",
       "\n",
       "    .dataframe tbody tr th {\n",
       "        vertical-align: top;\n",
       "    }\n",
       "\n",
       "    .dataframe thead th {\n",
       "        text-align: right;\n",
       "    }\n",
       "</style>\n",
       "<table border=\"1\" class=\"dataframe\">\n",
       "  <thead>\n",
       "    <tr style=\"text-align: right;\">\n",
       "      <th></th>\n",
       "      <th>Görüş</th>\n",
       "      <th>Durum</th>\n",
       "      <th>harf_sayisi</th>\n",
       "      <th>kelime_sayisi</th>\n",
       "    </tr>\n",
       "  </thead>\n",
       "  <tbody>\n",
       "    <tr>\n",
       "      <th>0</th>\n",
       "      <td>['ses', 'kalitesi', 'ergonomisi', 'rezalet', '...</td>\n",
       "      <td>Olumsuz</td>\n",
       "      <td>169</td>\n",
       "      <td>16</td>\n",
       "    </tr>\n",
       "    <tr>\n",
       "      <th>2</th>\n",
       "      <td>['ses', 'olayı', 'süpergece', 'çalıştır', 'sık...</td>\n",
       "      <td>Olumlu</td>\n",
       "      <td>204</td>\n",
       "      <td>19</td>\n",
       "    </tr>\n",
       "    <tr>\n",
       "      <th>3</th>\n",
       "      <td>['geldi', 'bigün', 'kullandık', 'hemen', 'bozo...</td>\n",
       "      <td>Olumsuz</td>\n",
       "      <td>74</td>\n",
       "      <td>7</td>\n",
       "    </tr>\n",
       "    <tr>\n",
       "      <th>4</th>\n",
       "      <td>['kulaklığın', 'sesi', 'kaliteli', 'falan', 'd...</td>\n",
       "      <td>Olumsuz</td>\n",
       "      <td>485</td>\n",
       "      <td>49</td>\n",
       "    </tr>\n",
       "    <tr>\n",
       "      <th>6</th>\n",
       "      <td>['kullanisli', 'baya']</td>\n",
       "      <td>Olumlu</td>\n",
       "      <td>22</td>\n",
       "      <td>2</td>\n",
       "    </tr>\n",
       "    <tr>\n",
       "      <th>...</th>\n",
       "      <td>...</td>\n",
       "      <td>...</td>\n",
       "      <td>...</td>\n",
       "      <td>...</td>\n",
       "    </tr>\n",
       "    <tr>\n",
       "      <th>11421</th>\n",
       "      <td>['yaklaşık', 'ay', 'önce', 'anneme', 'aldım', ...</td>\n",
       "      <td>Olumlu</td>\n",
       "      <td>336</td>\n",
       "      <td>31</td>\n",
       "    </tr>\n",
       "    <tr>\n",
       "      <th>11422</th>\n",
       "      <td>['beğendim', 'hızlı', 'pişiriyor']</td>\n",
       "      <td>Olumlu</td>\n",
       "      <td>34</td>\n",
       "      <td>3</td>\n",
       "    </tr>\n",
       "    <tr>\n",
       "      <th>11423</th>\n",
       "      <td>['ürünü', 'ana', 'kadar', 'beğendim', 'standar...</td>\n",
       "      <td>Olumlu</td>\n",
       "      <td>259</td>\n",
       "      <td>24</td>\n",
       "    </tr>\n",
       "    <tr>\n",
       "      <th>11426</th>\n",
       "      <td>['cihazı', 'yıldır', 'kullanıyorum', 'cihazı',...</td>\n",
       "      <td>Olumsuz</td>\n",
       "      <td>244</td>\n",
       "      <td>23</td>\n",
       "    </tr>\n",
       "    <tr>\n",
       "      <th>11428</th>\n",
       "      <td>['urun', 'kaliteli', 'zamaninda', 'tedlimat', ...</td>\n",
       "      <td>Olumlu</td>\n",
       "      <td>101</td>\n",
       "      <td>9</td>\n",
       "    </tr>\n",
       "  </tbody>\n",
       "</table>\n",
       "<p>8491 rows × 4 columns</p>\n",
       "</div>"
      ],
      "text/plain": [
       "                                                   Görüş    Durum  \\\n",
       "0      ['ses', 'kalitesi', 'ergonomisi', 'rezalet', '...  Olumsuz   \n",
       "2      ['ses', 'olayı', 'süpergece', 'çalıştır', 'sık...   Olumlu   \n",
       "3      ['geldi', 'bigün', 'kullandık', 'hemen', 'bozo...  Olumsuz   \n",
       "4      ['kulaklığın', 'sesi', 'kaliteli', 'falan', 'd...  Olumsuz   \n",
       "6                                 ['kullanisli', 'baya']   Olumlu   \n",
       "...                                                  ...      ...   \n",
       "11421  ['yaklaşık', 'ay', 'önce', 'anneme', 'aldım', ...   Olumlu   \n",
       "11422                 ['beğendim', 'hızlı', 'pişiriyor']   Olumlu   \n",
       "11423  ['ürünü', 'ana', 'kadar', 'beğendim', 'standar...   Olumlu   \n",
       "11426  ['cihazı', 'yıldır', 'kullanıyorum', 'cihazı',...  Olumsuz   \n",
       "11428  ['urun', 'kaliteli', 'zamaninda', 'tedlimat', ...   Olumlu   \n",
       "\n",
       "       harf_sayisi  kelime_sayisi  \n",
       "0              169             16  \n",
       "2              204             19  \n",
       "3               74              7  \n",
       "4              485             49  \n",
       "6               22              2  \n",
       "...            ...            ...  \n",
       "11421          336             31  \n",
       "11422           34              3  \n",
       "11423          259             24  \n",
       "11426          244             23  \n",
       "11428          101              9  \n",
       "\n",
       "[8491 rows x 4 columns]"
      ]
     },
     "execution_count": 28,
     "metadata": {},
     "output_type": "execute_result"
    }
   ],
   "source": [
    "math_train_df.loc[math_train_df[\"Durum\"] == \"Tarafsız\", \"Durum\"] = np.nan\n",
    "math_train_df.dropna(inplace = True)\n",
    "math_train_df"
   ]
  },
  {
   "cell_type": "markdown",
   "id": "b7934956",
   "metadata": {
    "papermill": {
     "duration": 0.024977,
     "end_time": "2022-09-26T05:42:45.695506",
     "exception": false,
     "start_time": "2022-09-26T05:42:45.670529",
     "status": "completed"
    },
    "tags": []
   },
   "source": [
    "## GÖRSELLEŞTİRME"
   ]
  },
  {
   "cell_type": "code",
   "execution_count": 29,
   "id": "6292ae97",
   "metadata": {
    "papermill": {
     "duration": 42.113291,
     "end_time": "2022-09-26T05:43:27.830471",
     "exception": false,
     "start_time": "2022-09-26T05:42:45.717180",
     "status": "completed"
    },
    "tags": []
   },
   "outputs": [],
   "source": [
    "tf1 = (math_train_df[\"Görüş\"]).apply(lambda x: \n",
    "                             pd.value_counts(x.split(\" \"))).sum(axis = 0).reset_index()"
   ]
  },
  {
   "cell_type": "code",
   "execution_count": 30,
   "id": "1c9daeed",
   "metadata": {
    "papermill": {
     "duration": 0.031839,
     "end_time": "2022-09-26T05:43:27.884404",
     "exception": false,
     "start_time": "2022-09-26T05:43:27.852565",
     "status": "completed"
    },
    "tags": []
   },
   "outputs": [],
   "source": [
    "tf1.columns = [\"words\",\"tf\"]"
   ]
  },
  {
   "cell_type": "code",
   "execution_count": 31,
   "id": "164bfb4f",
   "metadata": {
    "papermill": {
     "duration": 0.037601,
     "end_time": "2022-09-26T05:43:27.944086",
     "exception": false,
     "start_time": "2022-09-26T05:43:27.906485",
     "status": "completed"
    },
    "tags": []
   },
   "outputs": [
    {
     "data": {
      "text/html": [
       "<div>\n",
       "<style scoped>\n",
       "    .dataframe tbody tr th:only-of-type {\n",
       "        vertical-align: middle;\n",
       "    }\n",
       "\n",
       "    .dataframe tbody tr th {\n",
       "        vertical-align: top;\n",
       "    }\n",
       "\n",
       "    .dataframe thead th {\n",
       "        text-align: right;\n",
       "    }\n",
       "</style>\n",
       "<table border=\"1\" class=\"dataframe\">\n",
       "  <thead>\n",
       "    <tr style=\"text-align: right;\">\n",
       "      <th></th>\n",
       "      <th>words</th>\n",
       "      <th>tf</th>\n",
       "    </tr>\n",
       "  </thead>\n",
       "  <tbody>\n",
       "    <tr>\n",
       "      <th>0</th>\n",
       "      <td>['ses',</td>\n",
       "      <td>44.0</td>\n",
       "    </tr>\n",
       "    <tr>\n",
       "      <th>1</th>\n",
       "      <td>'kalitesi',</td>\n",
       "      <td>271.0</td>\n",
       "    </tr>\n",
       "    <tr>\n",
       "      <th>2</th>\n",
       "      <td>'ergonomisi',</td>\n",
       "      <td>2.0</td>\n",
       "    </tr>\n",
       "    <tr>\n",
       "      <th>3</th>\n",
       "      <td>'rezalet',</td>\n",
       "      <td>30.0</td>\n",
       "    </tr>\n",
       "    <tr>\n",
       "      <th>4</th>\n",
       "      <td>'sony',</td>\n",
       "      <td>14.0</td>\n",
       "    </tr>\n",
       "  </tbody>\n",
       "</table>\n",
       "</div>"
      ],
      "text/plain": [
       "           words     tf\n",
       "0        ['ses',   44.0\n",
       "1    'kalitesi',  271.0\n",
       "2  'ergonomisi',    2.0\n",
       "3     'rezalet',   30.0\n",
       "4        'sony',   14.0"
      ]
     },
     "execution_count": 31,
     "metadata": {},
     "output_type": "execute_result"
    }
   ],
   "source": [
    "tf1.head()\n"
   ]
  },
  {
   "cell_type": "code",
   "execution_count": 32,
   "id": "ff7a8fef",
   "metadata": {
    "papermill": {
     "duration": 0.048542,
     "end_time": "2022-09-26T05:43:28.015054",
     "exception": false,
     "start_time": "2022-09-26T05:43:27.966512",
     "status": "completed"
    },
    "tags": []
   },
   "outputs": [
    {
     "name": "stdout",
     "output_type": "stream",
     "text": [
      "<class 'pandas.core.frame.DataFrame'>\n",
      "RangeIndex: 31440 entries, 0 to 31439\n",
      "Data columns (total 2 columns):\n",
      " #   Column  Non-Null Count  Dtype  \n",
      "---  ------  --------------  -----  \n",
      " 0   words   31440 non-null  object \n",
      " 1   tf      31440 non-null  float64\n",
      "dtypes: float64(1), object(1)\n",
      "memory usage: 491.4+ KB\n"
     ]
    }
   ],
   "source": [
    "tf1.info()"
   ]
  },
  {
   "cell_type": "code",
   "execution_count": 33,
   "id": "72cc366c",
   "metadata": {
    "papermill": {
     "duration": 0.054437,
     "end_time": "2022-09-26T05:43:28.092878",
     "exception": false,
     "start_time": "2022-09-26T05:43:28.038441",
     "status": "completed"
    },
    "tags": []
   },
   "outputs": [
    {
     "data": {
      "text/plain": [
       "words    31440\n",
       "tf         228\n",
       "dtype: int64"
      ]
     },
     "execution_count": 33,
     "metadata": {},
     "output_type": "execute_result"
    }
   ],
   "source": [
    "tf1.nunique()"
   ]
  },
  {
   "cell_type": "code",
   "execution_count": 34,
   "id": "6848b699",
   "metadata": {
    "papermill": {
     "duration": 0.405145,
     "end_time": "2022-09-26T05:43:28.519951",
     "exception": false,
     "start_time": "2022-09-26T05:43:28.114806",
     "status": "completed"
    },
    "tags": []
   },
   "outputs": [
    {
     "data": {
      "image/png": "[encoded data removed]",
      "text/plain": [
       "<Figure size 432x288 with 1 Axes>"
      ]
     },
     "metadata": {
      "needs_background": "light"
     },
     "output_type": "display_data"
    }
   ],
   "source": [
    "a = tf1[tf1[\"tf\"] > 500]\n",
    "a.plot.bar(x = \"words\", y = \"tf\");"
   ]
  },
  {
   "cell_type": "markdown",
   "id": "e799ac2c",
   "metadata": {
    "papermill": {
     "duration": 0.022157,
     "end_time": "2022-09-26T05:43:28.564553",
     "exception": false,
     "start_time": "2022-09-26T05:43:28.542396",
     "status": "completed"
    },
    "tags": []
   },
   "source": [
    "## WOLDCLOUD\n"
   ]
  },
  {
   "cell_type": "code",
   "execution_count": 35,
   "id": "4c0bf66a",
   "metadata": {
    "papermill": {
     "duration": 11.185776,
     "end_time": "2022-09-26T05:43:39.772838",
     "exception": false,
     "start_time": "2022-09-26T05:43:28.587062",
     "status": "completed"
    },
    "tags": []
   },
   "outputs": [
    {
     "name": "stdout",
     "output_type": "stream",
     "text": [
      "Requirement already satisfied: wordcloud in c:\\programdata\\anaconda3\\lib\\site-packages (1.8.2.2)\n",
      "Requirement already satisfied: numpy>=1.6.1 in c:\\programdata\\anaconda3\\lib\\site-packages (from wordcloud) (1.21.5)\n",
      "Requirement already satisfied: pillow in c:\\programdata\\anaconda3\\lib\\site-packages (from wordcloud) (9.0.1)\n",
      "Requirement already satisfied: matplotlib in c:\\programdata\\anaconda3\\lib\\site-packages (from wordcloud) (3.5.1)\n",
      "Requirement already satisfied: cycler>=0.10 in c:\\programdata\\anaconda3\\lib\\site-packages (from matplotlib->wordcloud) (0.11.0)\n",
      "Requirement already satisfied: fonttools>=4.22.0 in c:\\programdata\\anaconda3\\lib\\site-packages (from matplotlib->wordcloud) (4.25.0)\n",
      "Requirement already satisfied: kiwisolver>=1.0.1 in c:\\programdata\\anaconda3\\lib\\site-packages (from matplotlib->wordcloud) (1.3.2)\n",
      "Requirement already satisfied: packaging>=20.0 in c:\\programdata\\anaconda3\\lib\\site-packages (from matplotlib->wordcloud) (21.3)\n",
      "Requirement already satisfied: pyparsing>=2.2.1 in c:\\programdata\\anaconda3\\lib\\site-packages (from matplotlib->wordcloud) (3.0.4)\n",
      "Requirement already satisfied: python-dateutil>=2.7 in c:\\programdata\\anaconda3\\lib\\site-packages (from matplotlib->wordcloud) (2.8.2)\n",
      "Requirement already satisfied: six>=1.5 in c:\\programdata\\anaconda3\\lib\\site-packages (from python-dateutil>=2.7->matplotlib->wordcloud) (1.16.0)\n"
     ]
    }
   ],
   "source": [
    "!pip install wordcloud"
   ]
  },
  {
   "cell_type": "code",
   "execution_count": 36,
   "id": "971e11cc",
   "metadata": {
    "papermill": {
     "duration": 0.067704,
     "end_time": "2022-09-26T05:43:39.864457",
     "exception": false,
     "start_time": "2022-09-26T05:43:39.796753",
     "status": "completed"
    },
    "tags": []
   },
   "outputs": [],
   "source": [
    "from wordcloud import WordCloud, STOPWORDS, ImageColorGenerator\n",
    "import matplotlib.pyplot as plt"
   ]
  },
  {
   "cell_type": "code",
   "execution_count": 37,
   "id": "a01fdcf6",
   "metadata": {
    "papermill": {
     "duration": 0.044012,
     "end_time": "2022-09-26T05:43:39.932136",
     "exception": false,
     "start_time": "2022-09-26T05:43:39.888124",
     "status": "completed"
    },
    "tags": []
   },
   "outputs": [],
   "source": [
    "text = \" \".join(i for i in math_train_df.Görüş)"
   ]
  },
  {
   "cell_type": "code",
   "execution_count": 38,
   "id": "b2762fdb",
   "metadata": {
    "papermill": {
     "duration": 2.168587,
     "end_time": "2022-09-26T05:43:42.123813",
     "exception": false,
     "start_time": "2022-09-26T05:43:39.955226",
     "status": "completed"
    },
    "tags": []
   },
   "outputs": [
    {
     "data": {
      "image/png": "[encoded data removed]",
      "text/plain": [
       "<Figure size 720x720 with 1 Axes>"
      ]
     },
     "metadata": {
      "needs_background": "light"
     },
     "output_type": "display_data"
    }
   ],
   "source": [
    "wordcloud = WordCloud(max_font_size = 50, \n",
    "                     background_color = \"white\").generate(text)\n",
    "plt.figure(figsize = [10,10])\n",
    "plt.imshow(wordcloud, interpolation = \"bilinear\")\n",
    "plt.axis(\"off\")\n",
    "plt.show()"
   ]
  },
  {
   "cell_type": "markdown",
   "id": "5509f9d9",
   "metadata": {
    "papermill": {
     "duration": 0.026309,
     "end_time": "2022-09-26T05:43:42.177045",
     "exception": false,
     "start_time": "2022-09-26T05:43:42.150736",
     "status": "completed"
    },
    "tags": []
   },
   "source": [
    "## DUYGU ANALİZİ VE MODEL OLUŞTURMA"
   ]
  },
  {
   "cell_type": "code",
   "execution_count": 39,
   "id": "d4f67ef7",
   "metadata": {
    "papermill": {
     "duration": 6.55255,
     "end_time": "2022-09-26T05:43:48.755969",
     "exception": false,
     "start_time": "2022-09-26T05:43:42.203419",
     "status": "completed"
    },
    "tags": []
   },
   "outputs": [
    {
     "name": "stderr",
     "output_type": "stream",
     "text": [
      "C:\\ProgramData\\Anaconda3\\lib\\site-packages\\xgboost\\compat.py:36: FutureWarning: pandas.Int64Index is deprecated and will be removed from pandas in a future version. Use pandas.Index with the appropriate dtype instead.\n",
      "  from pandas import MultiIndex, Int64Index\n"
     ]
    }
   ],
   "source": [
    "from textblob import TextBlob\n",
    "from sklearn import model_selection, preprocessing, linear_model, naive_bayes, metrics\n",
    "from sklearn.feature_extraction.text import TfidfVectorizer, CountVectorizer\n",
    "from sklearn import decomposition, ensemble\n",
    "\n",
    "import pandas, xgboost, numpy, textblob, string\n",
    "from keras.preprocessing import text, sequence\n",
    "from keras import layers, models, optimizers\n",
    "\n",
    "\n",
    "from warnings import filterwarnings\n",
    "filterwarnings('ignore')"
   ]
  },
  {
   "cell_type": "code",
   "execution_count": 40,
   "id": "2fbf266e",
   "metadata": {
    "papermill": {
     "duration": 0.041564,
     "end_time": "2022-09-26T05:43:48.824177",
     "exception": false,
     "start_time": "2022-09-26T05:43:48.782613",
     "status": "completed"
    },
    "tags": []
   },
   "outputs": [],
   "source": [
    "df = pd.DataFrame()\n",
    "df[\"text\"] = math_train_df[\"Görüş\"]\n",
    "df[\"label\"] = math_train_df[\"Durum\"]"
   ]
  },
  {
   "cell_type": "markdown",
   "id": "11f83c3a",
   "metadata": {
    "papermill": {
     "duration": 0.025435,
     "end_time": "2022-09-26T05:43:48.875370",
     "exception": false,
     "start_time": "2022-09-26T05:43:48.849935",
     "status": "completed"
    },
    "tags": []
   },
   "source": [
    "## DEĞİŞKEN MÜHENDİSLİĞİ"
   ]
  },
  {
   "cell_type": "code",
   "execution_count": 41,
   "id": "6d448e68",
   "metadata": {
    "papermill": {
     "duration": 0.037532,
     "end_time": "2022-09-26T05:43:48.938536",
     "exception": false,
     "start_time": "2022-09-26T05:43:48.901004",
     "status": "completed"
    },
    "tags": []
   },
   "outputs": [],
   "source": [
    "train_x, test_x, train_y, test_y = model_selection.train_test_split(df[\"text\"],\n",
    "                                                                   df[\"label\"], \n",
    "                                                                    random_state = 1)"
   ]
  },
  {
   "cell_type": "code",
   "execution_count": 42,
   "id": "d5171ef3",
   "metadata": {
    "papermill": {
     "duration": 0.037411,
     "end_time": "2022-09-26T05:43:49.001474",
     "exception": false,
     "start_time": "2022-09-26T05:43:48.964063",
     "status": "completed"
    },
    "tags": []
   },
   "outputs": [],
   "source": [
    "encoder = preprocessing.LabelEncoder()\n",
    "train_y = encoder.fit_transform(train_y)\n",
    "test_y = encoder.fit_transform(test_y)"
   ]
  },
  {
   "cell_type": "markdown",
   "id": "dab604ab",
   "metadata": {
    "papermill": {
     "duration": 0.026062,
     "end_time": "2022-09-26T05:43:49.053112",
     "exception": false,
     "start_time": "2022-09-26T05:43:49.027050",
     "status": "completed"
    },
    "tags": []
   },
   "source": [
    "## COUNT VECTORİZER"
   ]
  },
  {
   "cell_type": "markdown",
   "id": "3e2103d1",
   "metadata": {
    "papermill": {
     "duration": 0.025782,
     "end_time": "2022-09-26T05:43:49.104916",
     "exception": false,
     "start_time": "2022-09-26T05:43:49.079134",
     "status": "completed"
    },
    "tags": []
   },
   "source": [
    "\n",
    "    Count Vectors\n",
    "    TF-IDF Vectors (words, characters, n-grams)\n",
    "    Word Embeddings\n",
    "\n",
    "TF(t) = (Bir t teriminin bir dökümanda gözlenme frekansı) / (dökümandaki toplam terim sayısı)\n",
    "\n",
    "IDF(t) = log_e(Toplam döküman sayısı / içinde t terimi olan belge sayısı)\n"
   ]
  },
  {
   "cell_type": "code",
   "execution_count": 43,
   "id": "ee3c47a9",
   "metadata": {
    "papermill": {
     "duration": 0.252116,
     "end_time": "2022-09-26T05:43:49.382980",
     "exception": false,
     "start_time": "2022-09-26T05:43:49.130864",
     "status": "completed"
    },
    "tags": []
   },
   "outputs": [
    {
     "data": {
      "text/plain": [
       "CountVectorizer()"
      ]
     },
     "execution_count": 43,
     "metadata": {},
     "output_type": "execute_result"
    }
   ],
   "source": [
    "vectorizer = CountVectorizer()\n",
    "vectorizer.fit(train_x)"
   ]
  },
  {
   "cell_type": "code",
   "execution_count": 44,
   "id": "54cb7a41",
   "metadata": {
    "papermill": {
     "duration": 0.228329,
     "end_time": "2022-09-26T05:43:49.637677",
     "exception": false,
     "start_time": "2022-09-26T05:43:49.409348",
     "status": "completed"
    },
    "tags": []
   },
   "outputs": [],
   "source": [
    "x_train_count = vectorizer.transform(train_x)\n",
    "x_test_count = vectorizer.transform(test_x)"
   ]
  },
  {
   "cell_type": "code",
   "execution_count": 45,
   "id": "6aa7e223",
   "metadata": {
    "papermill": {
     "duration": 0.0556,
     "end_time": "2022-09-26T05:43:49.721067",
     "exception": false,
     "start_time": "2022-09-26T05:43:49.665467",
     "status": "completed"
    },
    "tags": []
   },
   "outputs": [
    {
     "data": {
      "text/plain": [
       "['aaa', 'aaaa', 'aaaaaaaaaaaaaaaaa', 'aantajı', 'abartilacak']"
      ]
     },
     "execution_count": 45,
     "metadata": {},
     "output_type": "execute_result"
    }
   ],
   "source": [
    "vectorizer.get_feature_names()[0:5]"
   ]
  },
  {
   "cell_type": "code",
   "execution_count": 46,
   "id": "9ada78b5",
   "metadata": {
    "papermill": {
     "duration": 0.773169,
     "end_time": "2022-09-26T05:43:50.520302",
     "exception": false,
     "start_time": "2022-09-26T05:43:49.747133",
     "status": "completed"
    },
    "tags": []
   },
   "outputs": [
    {
     "data": {
      "text/plain": [
       "array([[0, 0, 0, ..., 0, 0, 0],\n",
       "       [0, 0, 0, ..., 0, 0, 0],\n",
       "       [0, 0, 0, ..., 0, 0, 0],\n",
       "       ...,\n",
       "       [0, 0, 0, ..., 0, 0, 0],\n",
       "       [0, 0, 0, ..., 0, 0, 0],\n",
       "       [0, 0, 0, ..., 0, 0, 0]], dtype=int64)"
      ]
     },
     "execution_count": 46,
     "metadata": {},
     "output_type": "execute_result"
    }
   ],
   "source": [
    "x_train_count.toarray()"
   ]
  },
  {
   "cell_type": "markdown",
   "id": "87b9c5f7",
   "metadata": {
    "papermill": {
     "duration": 0.02649,
     "end_time": "2022-09-26T05:43:50.574092",
     "exception": false,
     "start_time": "2022-09-26T05:43:50.547602",
     "status": "completed"
    },
    "tags": []
   },
   "source": [
    "## TF-IDF"
   ]
  },
  {
   "cell_type": "code",
   "execution_count": 47,
   "id": "88cad009",
   "metadata": {
    "papermill": {
     "duration": 0.033536,
     "end_time": "2022-09-26T05:43:50.633674",
     "exception": false,
     "start_time": "2022-09-26T05:43:50.600138",
     "status": "completed"
    },
    "tags": []
   },
   "outputs": [],
   "source": [
    "#wordlevel"
   ]
  },
  {
   "cell_type": "code",
   "execution_count": 48,
   "id": "dfb2e480",
   "metadata": {
    "papermill": {
     "duration": 0.251442,
     "end_time": "2022-09-26T05:43:50.911291",
     "exception": false,
     "start_time": "2022-09-26T05:43:50.659849",
     "status": "completed"
    },
    "tags": []
   },
   "outputs": [
    {
     "data": {
      "text/plain": [
       "TfidfVectorizer()"
      ]
     },
     "execution_count": 48,
     "metadata": {},
     "output_type": "execute_result"
    }
   ],
   "source": [
    "tf_idf_word_vectorizer = TfidfVectorizer()\n",
    "tf_idf_word_vectorizer.fit(train_x)"
   ]
  },
  {
   "cell_type": "code",
   "execution_count": 49,
   "id": "5ebce745",
   "metadata": {
    "papermill": {
     "duration": 0.242371,
     "end_time": "2022-09-26T05:43:51.179635",
     "exception": false,
     "start_time": "2022-09-26T05:43:50.937264",
     "status": "completed"
    },
    "tags": []
   },
   "outputs": [],
   "source": [
    "x_train_tf_idf_word = tf_idf_word_vectorizer.transform(train_x)\n",
    "x_test_tf_idf_word = tf_idf_word_vectorizer.transform(test_x)"
   ]
  },
  {
   "cell_type": "code",
   "execution_count": 50,
   "id": "c047cbed",
   "metadata": {
    "papermill": {
     "duration": 0.056344,
     "end_time": "2022-09-26T05:43:51.261929",
     "exception": false,
     "start_time": "2022-09-26T05:43:51.205585",
     "status": "completed"
    },
    "tags": []
   },
   "outputs": [
    {
     "data": {
      "text/plain": [
       "['aaa', 'aaaa', 'aaaaaaaaaaaaaaaaa', 'aantajı', 'abartilacak']"
      ]
     },
     "execution_count": 50,
     "metadata": {},
     "output_type": "execute_result"
    }
   ],
   "source": [
    "tf_idf_word_vectorizer.get_feature_names()[0:5]"
   ]
  },
  {
   "cell_type": "code",
   "execution_count": 51,
   "id": "4b92edcf",
   "metadata": {
    "papermill": {
     "duration": 0.77118,
     "end_time": "2022-09-26T05:43:52.059910",
     "exception": false,
     "start_time": "2022-09-26T05:43:51.288730",
     "status": "completed"
    },
    "tags": []
   },
   "outputs": [
    {
     "data": {
      "text/plain": [
       "array([[0., 0., 0., ..., 0., 0., 0.],\n",
       "       [0., 0., 0., ..., 0., 0., 0.],\n",
       "       [0., 0., 0., ..., 0., 0., 0.],\n",
       "       ...,\n",
       "       [0., 0., 0., ..., 0., 0., 0.],\n",
       "       [0., 0., 0., ..., 0., 0., 0.],\n",
       "       [0., 0., 0., ..., 0., 0., 0.]])"
      ]
     },
     "execution_count": 51,
     "metadata": {},
     "output_type": "execute_result"
    }
   ],
   "source": [
    "x_train_tf_idf_word.toarray()"
   ]
  },
  {
   "cell_type": "code",
   "execution_count": 52,
   "id": "985c2707",
   "metadata": {
    "papermill": {
     "duration": 0.034728,
     "end_time": "2022-09-26T05:43:52.120842",
     "exception": false,
     "start_time": "2022-09-26T05:43:52.086114",
     "status": "completed"
    },
    "tags": []
   },
   "outputs": [],
   "source": [
    "# ngram level tf-idf"
   ]
  },
  {
   "cell_type": "code",
   "execution_count": 53,
   "id": "d8572d14",
   "metadata": {
    "papermill": {
     "duration": 1.046374,
     "end_time": "2022-09-26T05:43:53.193620",
     "exception": false,
     "start_time": "2022-09-26T05:43:52.147246",
     "status": "completed"
    },
    "tags": []
   },
   "outputs": [
    {
     "data": {
      "text/plain": [
       "TfidfVectorizer(ngram_range=(2, 3))"
      ]
     },
     "execution_count": 53,
     "metadata": {},
     "output_type": "execute_result"
    }
   ],
   "source": [
    "tf_idf_ngram_vectorizer = TfidfVectorizer(ngram_range = (2,3))\n",
    "tf_idf_ngram_vectorizer.fit(train_x)"
   ]
  },
  {
   "cell_type": "code",
   "execution_count": 54,
   "id": "f1fec233",
   "metadata": {
    "papermill": {
     "duration": 0.504045,
     "end_time": "2022-09-26T05:43:53.729737",
     "exception": false,
     "start_time": "2022-09-26T05:43:53.225692",
     "status": "completed"
    },
    "tags": []
   },
   "outputs": [],
   "source": [
    "x_train_tf_idf_ngram = tf_idf_ngram_vectorizer.transform(train_x)\n",
    "x_test_tf_idf_ngram = tf_idf_ngram_vectorizer.transform(test_x)"
   ]
  },
  {
   "cell_type": "code",
   "execution_count": 55,
   "id": "175d8593",
   "metadata": {
    "papermill": {
     "duration": 0.036809,
     "end_time": "2022-09-26T05:43:53.793286",
     "exception": false,
     "start_time": "2022-09-26T05:43:53.756477",
     "status": "completed"
    },
    "tags": []
   },
   "outputs": [],
   "source": [
    "# characters level tf-idf"
   ]
  },
  {
   "cell_type": "code",
   "execution_count": 56,
   "id": "4753004c",
   "metadata": {
    "papermill": {
     "duration": 1.459448,
     "end_time": "2022-09-26T05:43:55.279149",
     "exception": false,
     "start_time": "2022-09-26T05:43:53.819701",
     "status": "completed"
    },
    "tags": []
   },
   "outputs": [
    {
     "data": {
      "text/plain": [
       "TfidfVectorizer(analyzer='char', ngram_range=(2, 3))"
      ]
     },
     "execution_count": 56,
     "metadata": {},
     "output_type": "execute_result"
    }
   ],
   "source": [
    "tf_idf_chars_vectorizer = TfidfVectorizer(analyzer = \"char\", ngram_range = (2,3))\n",
    "tf_idf_chars_vectorizer.fit(train_x)"
   ]
  },
  {
   "cell_type": "code",
   "execution_count": 57,
   "id": "aa77c7fb",
   "metadata": {
    "papermill": {
     "duration": 1.949403,
     "end_time": "2022-09-26T05:43:57.257005",
     "exception": false,
     "start_time": "2022-09-26T05:43:55.307602",
     "status": "completed"
    },
    "tags": []
   },
   "outputs": [],
   "source": [
    "x_train_tf_idf_chars = tf_idf_chars_vectorizer.transform(train_x)\n",
    "x_test_tf_idf_chars = tf_idf_chars_vectorizer.transform(test_x)"
   ]
  },
  {
   "cell_type": "markdown",
   "id": "f0e26717",
   "metadata": {
    "papermill": {
     "duration": 0.026879,
     "end_time": "2022-09-26T05:43:57.311948",
     "exception": false,
     "start_time": "2022-09-26T05:43:57.285069",
     "status": "completed"
    },
    "tags": []
   },
   "source": [
    "## MAKİNE ÖĞRENMESİ VE REGRESYON MODELLERİNİN OLUŞTURULMASI"
   ]
  },
  {
   "cell_type": "markdown",
   "id": "c765b9ec",
   "metadata": {
    "papermill": {
     "duration": 0.026553,
     "end_time": "2022-09-26T05:43:57.365915",
     "exception": false,
     "start_time": "2022-09-26T05:43:57.339362",
     "status": "completed"
    },
    "tags": []
   },
   "source": [
    "### LOJİSTİK REGRESYON"
   ]
  },
  {
   "cell_type": "code",
   "execution_count": 58,
   "id": "42b38abb",
   "metadata": {
    "papermill": {
     "duration": 5.703221,
     "end_time": "2022-09-26T05:44:03.095780",
     "exception": false,
     "start_time": "2022-09-26T05:43:57.392559",
     "status": "completed"
    },
    "tags": []
   },
   "outputs": [
    {
     "name": "stdout",
     "output_type": "stream",
     "text": [
      "Count Vectors Doğruluk Oranı: 0.8813048099920276\n"
     ]
    }
   ],
   "source": [
    "loj = linear_model.LogisticRegression()\n",
    "loj_model = loj.fit(x_train_count, train_y)\n",
    "accuracy = model_selection.cross_val_score(loj_model, \n",
    "                                           x_test_count, \n",
    "                                           test_y, \n",
    "                                           cv = 10).mean()\n",
    "\n",
    "print(\"Count Vectors Doğruluk Oranı:\", accuracy)"
   ]
  },
  {
   "cell_type": "code",
   "execution_count": 59,
   "id": "4e0c2442",
   "metadata": {
    "papermill": {
     "duration": 4.895937,
     "end_time": "2022-09-26T05:44:08.098814",
     "exception": false,
     "start_time": "2022-09-26T05:44:03.202877",
     "status": "completed"
    },
    "tags": []
   },
   "outputs": [
    {
     "name": "stdout",
     "output_type": "stream",
     "text": [
      "Word-Level TF-IDF Doğruluk Oranı: 0.876587828859952\n"
     ]
    }
   ],
   "source": [
    "loj = linear_model.LogisticRegression()\n",
    "loj_model = loj.fit(x_train_tf_idf_word,train_y)\n",
    "accuracy = model_selection.cross_val_score(loj_model, \n",
    "                                           x_test_tf_idf_word, \n",
    "                                           test_y, \n",
    "                                           cv = 10).mean()\n",
    "\n",
    "print(\"Word-Level TF-IDF Doğruluk Oranı:\", accuracy)"
   ]
  },
  {
   "cell_type": "code",
   "execution_count": 60,
   "id": "006c4026",
   "metadata": {
    "papermill": {
     "duration": 16.480807,
     "end_time": "2022-09-26T05:44:24.688295",
     "exception": false,
     "start_time": "2022-09-26T05:44:08.207488",
     "status": "completed"
    },
    "tags": []
   },
   "outputs": [
    {
     "name": "stdout",
     "output_type": "stream",
     "text": [
      "N-GRAM TF-IDF Doğruluk Oranı: 0.7781446540880503\n"
     ]
    }
   ],
   "source": [
    "loj = linear_model.LogisticRegression()\n",
    "loj_model = loj.fit(x_train_tf_idf_ngram,train_y)\n",
    "accuracy = model_selection.cross_val_score(loj_model, \n",
    "                                           x_test_tf_idf_ngram, \n",
    "                                           test_y, \n",
    "                                           cv = 10).mean()\n",
    "\n",
    "print(\"N-GRAM TF-IDF Doğruluk Oranı:\", accuracy)"
   ]
  },
  {
   "cell_type": "code",
   "execution_count": 61,
   "id": "aa9fe058",
   "metadata": {
    "papermill": {
     "duration": 2.113061,
     "end_time": "2022-09-26T05:44:26.900516",
     "exception": false,
     "start_time": "2022-09-26T05:44:24.787455",
     "status": "completed"
    },
    "tags": []
   },
   "outputs": [
    {
     "name": "stdout",
     "output_type": "stream",
     "text": [
      "CHARLEVEL Doğruluk Oranı: 0.8605788820976172\n"
     ]
    }
   ],
   "source": [
    "loj = linear_model.LogisticRegression()\n",
    "loj_model = loj.fit(x_train_tf_idf_chars,train_y)\n",
    "accuracy = model_selection.cross_val_score(loj_model, \n",
    "                                           x_test_tf_idf_chars, \n",
    "                                           test_y, \n",
    "                                           cv = 10).mean()\n",
    "\n",
    "print(\"CHARLEVEL Doğruluk Oranı:\", accuracy)"
   ]
  },
  {
   "cell_type": "markdown",
   "id": "9febe464",
   "metadata": {
    "papermill": {
     "duration": 0.026749,
     "end_time": "2022-09-26T05:44:26.954564",
     "exception": false,
     "start_time": "2022-09-26T05:44:26.927815",
     "status": "completed"
    },
    "tags": []
   },
   "source": [
    "### NAVİE BAYES"
   ]
  },
  {
   "cell_type": "code",
   "execution_count": 62,
   "id": "ed46f521",
   "metadata": {
    "papermill": {
     "duration": 0.083444,
     "end_time": "2022-09-26T05:44:27.066391",
     "exception": false,
     "start_time": "2022-09-26T05:44:26.982947",
     "status": "completed"
    },
    "tags": []
   },
   "outputs": [
    {
     "name": "stdout",
     "output_type": "stream",
     "text": [
      "Count Vectors Doğruluk Oranı: 0.8921184338736824\n"
     ]
    }
   ],
   "source": [
    "nb = naive_bayes.MultinomialNB()\n",
    "nb_model = nb.fit(x_train_count,train_y)\n",
    "accuracy = model_selection.cross_val_score(nb_model, \n",
    "                                           x_test_count, \n",
    "                                           test_y, \n",
    "                                           cv = 10).mean()\n",
    "\n",
    "print(\"Count Vectors Doğruluk Oranı:\", accuracy)"
   ]
  },
  {
   "cell_type": "code",
   "execution_count": 63,
   "id": "1abbf1a4",
   "metadata": {
    "papermill": {
     "duration": 0.082871,
     "end_time": "2022-09-26T05:44:27.176584",
     "exception": false,
     "start_time": "2022-09-26T05:44:27.093713",
     "status": "completed"
    },
    "tags": []
   },
   "outputs": [
    {
     "name": "stdout",
     "output_type": "stream",
     "text": [
      "Word-Level TF-IDF Doğruluk Oranı: 0.8911794667375321\n"
     ]
    }
   ],
   "source": [
    "nb = naive_bayes.MultinomialNB()\n",
    "nb_model = nb.fit(x_train_tf_idf_word,train_y)\n",
    "accuracy = model_selection.cross_val_score(nb_model, \n",
    "                                           x_test_tf_idf_word, \n",
    "                                           test_y, \n",
    "                                           cv = 10).mean()\n",
    "\n",
    "print(\"Word-Level TF-IDF Doğruluk Oranı:\", accuracy)"
   ]
  },
  {
   "cell_type": "code",
   "execution_count": 64,
   "id": "56d0ec53",
   "metadata": {
    "papermill": {
     "duration": 0.140298,
     "end_time": "2022-09-26T05:44:27.344611",
     "exception": false,
     "start_time": "2022-09-26T05:44:27.204313",
     "status": "completed"
    },
    "tags": []
   },
   "outputs": [
    {
     "name": "stdout",
     "output_type": "stream",
     "text": [
      "N-GRAM TF-IDF Doğruluk Oranı: 0.7654043759411817\n"
     ]
    }
   ],
   "source": [
    "nb = naive_bayes.MultinomialNB()\n",
    "nb_model = nb.fit(x_train_tf_idf_ngram,train_y)\n",
    "accuracy = model_selection.cross_val_score(nb_model, \n",
    "                                           x_test_tf_idf_ngram, \n",
    "                                           test_y, \n",
    "                                           cv = 10).mean()\n",
    "\n",
    "print(\"N-GRAM TF-IDF Doğruluk Oranı:\", accuracy)"
   ]
  },
  {
   "cell_type": "code",
   "execution_count": 65,
   "id": "dbfae2dc",
   "metadata": {
    "papermill": {
     "duration": 0.124307,
     "end_time": "2022-09-26T05:44:27.497392",
     "exception": false,
     "start_time": "2022-09-26T05:44:27.373085",
     "status": "completed"
    },
    "tags": []
   },
   "outputs": [
    {
     "name": "stdout",
     "output_type": "stream",
     "text": [
      "CHARLEVEL Doğruluk Oranı: 0.843168128266454\n"
     ]
    }
   ],
   "source": [
    "nb = naive_bayes.MultinomialNB()\n",
    "nb_model = nb.fit(x_train_tf_idf_chars,train_y)\n",
    "accuracy = model_selection.cross_val_score(nb_model, \n",
    "                                           x_test_tf_idf_chars, \n",
    "                                           test_y, \n",
    "                                           cv = 10).mean()\n",
    "\n",
    "print(\"CHARLEVEL Doğruluk Oranı:\", accuracy)"
   ]
  },
  {
   "cell_type": "markdown",
   "id": "0d535506",
   "metadata": {
    "papermill": {
     "duration": 0.027095,
     "end_time": "2022-09-26T05:44:27.551738",
     "exception": false,
     "start_time": "2022-09-26T05:44:27.524643",
     "status": "completed"
    },
    "tags": []
   },
   "source": [
    "### RANDOM FOREST"
   ]
  },
  {
   "cell_type": "code",
   "execution_count": 66,
   "id": "ab87ef43",
   "metadata": {
    "papermill": {
     "duration": 41.470009,
     "end_time": "2022-09-26T05:45:09.049339",
     "exception": false,
     "start_time": "2022-09-26T05:44:27.579330",
     "status": "completed"
    },
    "tags": []
   },
   "outputs": [
    {
     "name": "stdout",
     "output_type": "stream",
     "text": [
      "Count Vectors Doğruluk Oranı: 0.8600894676233501\n"
     ]
    }
   ],
   "source": [
    "rf = ensemble.RandomForestClassifier()\n",
    "rf_model = rf.fit(x_train_count,train_y)\n",
    "accuracy = model_selection.cross_val_score(rf_model, \n",
    "                                           x_test_count, \n",
    "                                           test_y, \n",
    "                                           cv = 10).mean()\n",
    "\n",
    "print(\"Count Vectors Doğruluk Oranı:\", accuracy)"
   ]
  },
  {
   "cell_type": "code",
   "execution_count": 67,
   "id": "a48b8482",
   "metadata": {
    "papermill": {
     "duration": 37.603484,
     "end_time": "2022-09-26T05:45:46.680642",
     "exception": false,
     "start_time": "2022-09-26T05:45:09.077158",
     "status": "completed"
    },
    "tags": []
   },
   "outputs": [
    {
     "name": "stdout",
     "output_type": "stream",
     "text": [
      "Word-Level TF-IDF Doğruluk Oranı: 0.8586743732837274\n"
     ]
    }
   ],
   "source": [
    "rf = ensemble.RandomForestClassifier()\n",
    "rf_model = rf.fit(x_train_tf_idf_word,train_y)\n",
    "accuracy = model_selection.cross_val_score(rf_model, \n",
    "                                           x_test_tf_idf_word, \n",
    "                                           test_y, \n",
    "                                           cv = 10).mean()\n",
    "\n",
    "print(\"Word-Level TF-IDF Doğruluk Oranı:\", accuracy)"
   ]
  },
  {
   "cell_type": "code",
   "execution_count": 68,
   "id": "0eaae416",
   "metadata": {
    "papermill": {
     "duration": 231.978989,
     "end_time": "2022-09-26T05:49:38.688675",
     "exception": false,
     "start_time": "2022-09-26T05:45:46.709686",
     "status": "completed"
    },
    "tags": []
   },
   "outputs": [
    {
     "name": "stdout",
     "output_type": "stream",
     "text": [
      "N-GRAM TF-IDF Doğruluk Oranı: 0.7526995305164319\n"
     ]
    }
   ],
   "source": [
    "rf = ensemble.RandomForestClassifier()\n",
    "rf_model = rf.fit(x_train_tf_idf_ngram,train_y)\n",
    "accuracy = model_selection.cross_val_score(rf_model, \n",
    "                                           x_test_tf_idf_ngram, \n",
    "                                           test_y, \n",
    "                                           cv = 10).mean()\n",
    "\n",
    "print(\"N-GRAM TF-IDF Doğruluk Oranı:\", accuracy)"
   ]
  },
  {
   "cell_type": "code",
   "execution_count": 69,
   "id": "8fedff3e",
   "metadata": {
    "papermill": {
     "duration": 27.138306,
     "end_time": "2022-09-26T05:50:05.855845",
     "exception": false,
     "start_time": "2022-09-26T05:49:38.717539",
     "status": "completed"
    },
    "tags": []
   },
   "outputs": [
    {
     "name": "stdout",
     "output_type": "stream",
     "text": [
      "CHARLEVEL Doğruluk Oranı: 0.8328018425015502\n"
     ]
    }
   ],
   "source": [
    "rf = ensemble.RandomForestClassifier()\n",
    "rf_model = rf.fit(x_train_tf_idf_chars,train_y)\n",
    "accuracy = model_selection.cross_val_score(rf_model, \n",
    "                                           x_test_tf_idf_chars, \n",
    "                                           test_y, \n",
    "                                           cv = 10).mean()\n",
    "\n",
    "print(\"CHARLEVEL Doğruluk Oranı:\", accuracy)"
   ]
  },
  {
   "cell_type": "markdown",
   "id": "a4f665b2",
   "metadata": {
    "papermill": {
     "duration": 0.027265,
     "end_time": "2022-09-26T05:50:05.912183",
     "exception": false,
     "start_time": "2022-09-26T05:50:05.884918",
     "status": "completed"
    },
    "tags": []
   },
   "source": [
    "### XGBoost"
   ]
  },
  {
   "cell_type": "code",
   "execution_count": 70,
   "id": "847abf55",
   "metadata": {
    "papermill": {
     "duration": 12.556473,
     "end_time": "2022-09-26T05:50:18.497059",
     "exception": false,
     "start_time": "2022-09-26T05:50:05.940586",
     "status": "completed"
    },
    "tags": []
   },
   "outputs": [
    {
     "name": "stdout",
     "output_type": "stream",
     "text": [
      "[21:13:58] WARNING: C:\\Windows\\Temp\\abs_557yfx631l\\croots\\recipe\\xgboost-split_1659548953302\\work\\src\\learner.cc:1115: Starting in XGBoost 1.3.0, the default evaluation metric used with the objective 'binary:logistic' was changed from 'error' to 'logloss'. Explicitly set eval_metric if you'd like to restore the old behavior.\n",
      "[21:13:58] WARNING: C:\\Windows\\Temp\\abs_557yfx631l\\croots\\recipe\\xgboost-split_1659548953302\\work\\src\\learner.cc:1115: Starting in XGBoost 1.3.0, the default evaluation metric used with the objective 'binary:logistic' was changed from 'error' to 'logloss'. Explicitly set eval_metric if you'd like to restore the old behavior.\n",
      "[21:13:59] WARNING: C:\\Windows\\Temp\\abs_557yfx631l\\croots\\recipe\\xgboost-split_1659548953302\\work\\src\\learner.cc:1115: Starting in XGBoost 1.3.0, the default evaluation metric used with the objective 'binary:logistic' was changed from 'error' to 'logloss'. Explicitly set eval_metric if you'd like to restore the old behavior.\n",
      "[21:14:00] WARNING: C:\\Windows\\Temp\\abs_557yfx631l\\croots\\recipe\\xgboost-split_1659548953302\\work\\src\\learner.cc:1115: Starting in XGBoost 1.3.0, the default evaluation metric used with the objective 'binary:logistic' was changed from 'error' to 'logloss'. Explicitly set eval_metric if you'd like to restore the old behavior.\n",
      "[21:14:01] WARNING: C:\\Windows\\Temp\\abs_557yfx631l\\croots\\recipe\\xgboost-split_1659548953302\\work\\src\\learner.cc:1115: Starting in XGBoost 1.3.0, the default evaluation metric used with the objective 'binary:logistic' was changed from 'error' to 'logloss'. Explicitly set eval_metric if you'd like to restore the old behavior.\n",
      "[21:14:01] WARNING: C:\\Windows\\Temp\\abs_557yfx631l\\croots\\recipe\\xgboost-split_1659548953302\\work\\src\\learner.cc:1115: Starting in XGBoost 1.3.0, the default evaluation metric used with the objective 'binary:logistic' was changed from 'error' to 'logloss'. Explicitly set eval_metric if you'd like to restore the old behavior.\n",
      "[21:14:02] WARNING: C:\\Windows\\Temp\\abs_557yfx631l\\croots\\recipe\\xgboost-split_1659548953302\\work\\src\\learner.cc:1115: Starting in XGBoost 1.3.0, the default evaluation metric used with the objective 'binary:logistic' was changed from 'error' to 'logloss'. Explicitly set eval_metric if you'd like to restore the old behavior.\n",
      "[21:14:03] WARNING: C:\\Windows\\Temp\\abs_557yfx631l\\croots\\recipe\\xgboost-split_1659548953302\\work\\src\\learner.cc:1115: Starting in XGBoost 1.3.0, the default evaluation metric used with the objective 'binary:logistic' was changed from 'error' to 'logloss'. Explicitly set eval_metric if you'd like to restore the old behavior.\n",
      "[21:14:04] WARNING: C:\\Windows\\Temp\\abs_557yfx631l\\croots\\recipe\\xgboost-split_1659548953302\\work\\src\\learner.cc:1115: Starting in XGBoost 1.3.0, the default evaluation metric used with the objective 'binary:logistic' was changed from 'error' to 'logloss'. Explicitly set eval_metric if you'd like to restore the old behavior.\n",
      "[21:14:04] WARNING: C:\\Windows\\Temp\\abs_557yfx631l\\croots\\recipe\\xgboost-split_1659548953302\\work\\src\\learner.cc:1115: Starting in XGBoost 1.3.0, the default evaluation metric used with the objective 'binary:logistic' was changed from 'error' to 'logloss'. Explicitly set eval_metric if you'd like to restore the old behavior.\n",
      "[21:14:05] WARNING: C:\\Windows\\Temp\\abs_557yfx631l\\croots\\recipe\\xgboost-split_1659548953302\\work\\src\\learner.cc:1115: Starting in XGBoost 1.3.0, the default evaluation metric used with the objective 'binary:logistic' was changed from 'error' to 'logloss'. Explicitly set eval_metric if you'd like to restore the old behavior.\n",
      "Count Vectors Doğruluk Oranı: 0.8445433607936931\n"
     ]
    }
   ],
   "source": [
    "xgb = xgboost.XGBClassifier()\n",
    "xgb_model = xgb.fit(x_train_count,train_y)\n",
    "accuracy = model_selection.cross_val_score(xgb_model, \n",
    "                                           x_test_count, \n",
    "                                           test_y, \n",
    "                                           cv = 10).mean()\n",
    "\n",
    "print(\"Count Vectors Doğruluk Oranı:\", accuracy)"
   ]
  },
  {
   "cell_type": "code",
   "execution_count": 71,
   "id": "fd11bb93",
   "metadata": {
    "papermill": {
     "duration": 16.910939,
     "end_time": "2022-09-26T05:50:35.437681",
     "exception": false,
     "start_time": "2022-09-26T05:50:18.526742",
     "status": "completed"
    },
    "tags": []
   },
   "outputs": [
    {
     "name": "stdout",
     "output_type": "stream",
     "text": [
      "[21:14:06] WARNING: C:\\Windows\\Temp\\abs_557yfx631l\\croots\\recipe\\xgboost-split_1659548953302\\work\\src\\learner.cc:1115: Starting in XGBoost 1.3.0, the default evaluation metric used with the objective 'binary:logistic' was changed from 'error' to 'logloss'. Explicitly set eval_metric if you'd like to restore the old behavior.\n",
      "[21:14:08] WARNING: C:\\Windows\\Temp\\abs_557yfx631l\\croots\\recipe\\xgboost-split_1659548953302\\work\\src\\learner.cc:1115: Starting in XGBoost 1.3.0, the default evaluation metric used with the objective 'binary:logistic' was changed from 'error' to 'logloss'. Explicitly set eval_metric if you'd like to restore the old behavior.\n",
      "[21:14:09] WARNING: C:\\Windows\\Temp\\abs_557yfx631l\\croots\\recipe\\xgboost-split_1659548953302\\work\\src\\learner.cc:1115: Starting in XGBoost 1.3.0, the default evaluation metric used with the objective 'binary:logistic' was changed from 'error' to 'logloss'. Explicitly set eval_metric if you'd like to restore the old behavior.\n",
      "[21:14:10] WARNING: C:\\Windows\\Temp\\abs_557yfx631l\\croots\\recipe\\xgboost-split_1659548953302\\work\\src\\learner.cc:1115: Starting in XGBoost 1.3.0, the default evaluation metric used with the objective 'binary:logistic' was changed from 'error' to 'logloss'. Explicitly set eval_metric if you'd like to restore the old behavior.\n",
      "[21:14:11] WARNING: C:\\Windows\\Temp\\abs_557yfx631l\\croots\\recipe\\xgboost-split_1659548953302\\work\\src\\learner.cc:1115: Starting in XGBoost 1.3.0, the default evaluation metric used with the objective 'binary:logistic' was changed from 'error' to 'logloss'. Explicitly set eval_metric if you'd like to restore the old behavior.\n",
      "[21:14:12] WARNING: C:\\Windows\\Temp\\abs_557yfx631l\\croots\\recipe\\xgboost-split_1659548953302\\work\\src\\learner.cc:1115: Starting in XGBoost 1.3.0, the default evaluation metric used with the objective 'binary:logistic' was changed from 'error' to 'logloss'. Explicitly set eval_metric if you'd like to restore the old behavior.\n",
      "[21:14:12] WARNING: C:\\Windows\\Temp\\abs_557yfx631l\\croots\\recipe\\xgboost-split_1659548953302\\work\\src\\learner.cc:1115: Starting in XGBoost 1.3.0, the default evaluation metric used with the objective 'binary:logistic' was changed from 'error' to 'logloss'. Explicitly set eval_metric if you'd like to restore the old behavior.\n",
      "[21:14:13] WARNING: C:\\Windows\\Temp\\abs_557yfx631l\\croots\\recipe\\xgboost-split_1659548953302\\work\\src\\learner.cc:1115: Starting in XGBoost 1.3.0, the default evaluation metric used with the objective 'binary:logistic' was changed from 'error' to 'logloss'. Explicitly set eval_metric if you'd like to restore the old behavior.\n",
      "[21:14:14] WARNING: C:\\Windows\\Temp\\abs_557yfx631l\\croots\\recipe\\xgboost-split_1659548953302\\work\\src\\learner.cc:1115: Starting in XGBoost 1.3.0, the default evaluation metric used with the objective 'binary:logistic' was changed from 'error' to 'logloss'. Explicitly set eval_metric if you'd like to restore the old behavior.\n",
      "[21:14:15] WARNING: C:\\Windows\\Temp\\abs_557yfx631l\\croots\\recipe\\xgboost-split_1659548953302\\work\\src\\learner.cc:1115: Starting in XGBoost 1.3.0, the default evaluation metric used with the objective 'binary:logistic' was changed from 'error' to 'logloss'. Explicitly set eval_metric if you'd like to restore the old behavior.\n",
      "[21:14:16] WARNING: C:\\Windows\\Temp\\abs_557yfx631l\\croots\\recipe\\xgboost-split_1659548953302\\work\\src\\learner.cc:1115: Starting in XGBoost 1.3.0, the default evaluation metric used with the objective 'binary:logistic' was changed from 'error' to 'logloss'. Explicitly set eval_metric if you'd like to restore the old behavior.\n",
      "Word-Level TF-IDF Doğruluk Oranı: 0.8421915138630526\n"
     ]
    }
   ],
   "source": [
    "xgb = xgboost.XGBClassifier()\n",
    "xgb_model = xgb.fit(x_train_tf_idf_word,train_y)\n",
    "accuracy = model_selection.cross_val_score(xgb_model, \n",
    "                                           x_test_tf_idf_word, \n",
    "                                           test_y, \n",
    "                                           cv = 10).mean()\n",
    "\n",
    "print(\"Word-Level TF-IDF Doğruluk Oranı:\", accuracy)"
   ]
  },
  {
   "cell_type": "code",
   "execution_count": 72,
   "id": "f484e10c",
   "metadata": {
    "papermill": {
     "duration": 50.669662,
     "end_time": "2022-09-26T05:51:26.136431",
     "exception": false,
     "start_time": "2022-09-26T05:50:35.466769",
     "status": "completed"
    },
    "tags": []
   },
   "outputs": [
    {
     "name": "stdout",
     "output_type": "stream",
     "text": [
      "[21:14:18] WARNING: C:\\Windows\\Temp\\abs_557yfx631l\\croots\\recipe\\xgboost-split_1659548953302\\work\\src\\learner.cc:1115: Starting in XGBoost 1.3.0, the default evaluation metric used with the objective 'binary:logistic' was changed from 'error' to 'logloss'. Explicitly set eval_metric if you'd like to restore the old behavior.\n",
      "[21:14:21] WARNING: C:\\Windows\\Temp\\abs_557yfx631l\\croots\\recipe\\xgboost-split_1659548953302\\work\\src\\learner.cc:1115: Starting in XGBoost 1.3.0, the default evaluation metric used with the objective 'binary:logistic' was changed from 'error' to 'logloss'. Explicitly set eval_metric if you'd like to restore the old behavior.\n",
      "[21:14:24] WARNING: C:\\Windows\\Temp\\abs_557yfx631l\\croots\\recipe\\xgboost-split_1659548953302\\work\\src\\learner.cc:1115: Starting in XGBoost 1.3.0, the default evaluation metric used with the objective 'binary:logistic' was changed from 'error' to 'logloss'. Explicitly set eval_metric if you'd like to restore the old behavior.\n",
      "[21:14:27] WARNING: C:\\Windows\\Temp\\abs_557yfx631l\\croots\\recipe\\xgboost-split_1659548953302\\work\\src\\learner.cc:1115: Starting in XGBoost 1.3.0, the default evaluation metric used with the objective 'binary:logistic' was changed from 'error' to 'logloss'. Explicitly set eval_metric if you'd like to restore the old behavior.\n",
      "[21:14:31] WARNING: C:\\Windows\\Temp\\abs_557yfx631l\\croots\\recipe\\xgboost-split_1659548953302\\work\\src\\learner.cc:1115: Starting in XGBoost 1.3.0, the default evaluation metric used with the objective 'binary:logistic' was changed from 'error' to 'logloss'. Explicitly set eval_metric if you'd like to restore the old behavior.\n",
      "[21:14:34] WARNING: C:\\Windows\\Temp\\abs_557yfx631l\\croots\\recipe\\xgboost-split_1659548953302\\work\\src\\learner.cc:1115: Starting in XGBoost 1.3.0, the default evaluation metric used with the objective 'binary:logistic' was changed from 'error' to 'logloss'. Explicitly set eval_metric if you'd like to restore the old behavior.\n",
      "[21:14:38] WARNING: C:\\Windows\\Temp\\abs_557yfx631l\\croots\\recipe\\xgboost-split_1659548953302\\work\\src\\learner.cc:1115: Starting in XGBoost 1.3.0, the default evaluation metric used with the objective 'binary:logistic' was changed from 'error' to 'logloss'. Explicitly set eval_metric if you'd like to restore the old behavior.\n",
      "[21:14:41] WARNING: C:\\Windows\\Temp\\abs_557yfx631l\\croots\\recipe\\xgboost-split_1659548953302\\work\\src\\learner.cc:1115: Starting in XGBoost 1.3.0, the default evaluation metric used with the objective 'binary:logistic' was changed from 'error' to 'logloss'. Explicitly set eval_metric if you'd like to restore the old behavior.\n",
      "[21:14:44] WARNING: C:\\Windows\\Temp\\abs_557yfx631l\\croots\\recipe\\xgboost-split_1659548953302\\work\\src\\learner.cc:1115: Starting in XGBoost 1.3.0, the default evaluation metric used with the objective 'binary:logistic' was changed from 'error' to 'logloss'. Explicitly set eval_metric if you'd like to restore the old behavior.\n",
      "[21:14:48] WARNING: C:\\Windows\\Temp\\abs_557yfx631l\\croots\\recipe\\xgboost-split_1659548953302\\work\\src\\learner.cc:1115: Starting in XGBoost 1.3.0, the default evaluation metric used with the objective 'binary:logistic' was changed from 'error' to 'logloss'. Explicitly set eval_metric if you'd like to restore the old behavior.\n",
      "[21:14:51] WARNING: C:\\Windows\\Temp\\abs_557yfx631l\\croots\\recipe\\xgboost-split_1659548953302\\work\\src\\learner.cc:1115: Starting in XGBoost 1.3.0, the default evaluation metric used with the objective 'binary:logistic' was changed from 'error' to 'logloss'. Explicitly set eval_metric if you'd like to restore the old behavior.\n",
      "N-GRAM TF-IDF Doğruluk Oranı: 0.6980711311896536\n"
     ]
    }
   ],
   "source": [
    "xgb = xgboost.XGBClassifier()\n",
    "xgb_model = xgb.fit(x_train_tf_idf_ngram,train_y)\n",
    "accuracy = model_selection.cross_val_score(xgb_model, \n",
    "                                           x_test_tf_idf_ngram, \n",
    "                                           test_y, \n",
    "                                           cv = 10).mean()\n",
    "\n",
    "print(\"N-GRAM TF-IDF Doğruluk Oranı:\", accuracy)"
   ]
  },
  {
   "cell_type": "code",
   "execution_count": 73,
   "id": "50338530",
   "metadata": {
    "papermill": {
     "duration": 87.929161,
     "end_time": "2022-09-26T05:52:54.093448",
     "exception": false,
     "start_time": "2022-09-26T05:51:26.164287",
     "status": "completed"
    },
    "tags": []
   },
   "outputs": [
    {
     "name": "stdout",
     "output_type": "stream",
     "text": [
      "[21:14:55] WARNING: C:\\Windows\\Temp\\abs_557yfx631l\\croots\\recipe\\xgboost-split_1659548953302\\work\\src\\learner.cc:1115: Starting in XGBoost 1.3.0, the default evaluation metric used with the objective 'binary:logistic' was changed from 'error' to 'logloss'. Explicitly set eval_metric if you'd like to restore the old behavior.\n",
      "[21:15:11] WARNING: C:\\Windows\\Temp\\abs_557yfx631l\\croots\\recipe\\xgboost-split_1659548953302\\work\\src\\learner.cc:1115: Starting in XGBoost 1.3.0, the default evaluation metric used with the objective 'binary:logistic' was changed from 'error' to 'logloss'. Explicitly set eval_metric if you'd like to restore the old behavior.\n",
      "[21:15:16] WARNING: C:\\Windows\\Temp\\abs_557yfx631l\\croots\\recipe\\xgboost-split_1659548953302\\work\\src\\learner.cc:1115: Starting in XGBoost 1.3.0, the default evaluation metric used with the objective 'binary:logistic' was changed from 'error' to 'logloss'. Explicitly set eval_metric if you'd like to restore the old behavior.\n",
      "[21:15:20] WARNING: C:\\Windows\\Temp\\abs_557yfx631l\\croots\\recipe\\xgboost-split_1659548953302\\work\\src\\learner.cc:1115: Starting in XGBoost 1.3.0, the default evaluation metric used with the objective 'binary:logistic' was changed from 'error' to 'logloss'. Explicitly set eval_metric if you'd like to restore the old behavior.\n",
      "[21:15:25] WARNING: C:\\Windows\\Temp\\abs_557yfx631l\\croots\\recipe\\xgboost-split_1659548953302\\work\\src\\learner.cc:1115: Starting in XGBoost 1.3.0, the default evaluation metric used with the objective 'binary:logistic' was changed from 'error' to 'logloss'. Explicitly set eval_metric if you'd like to restore the old behavior.\n",
      "[21:15:29] WARNING: C:\\Windows\\Temp\\abs_557yfx631l\\croots\\recipe\\xgboost-split_1659548953302\\work\\src\\learner.cc:1115: Starting in XGBoost 1.3.0, the default evaluation metric used with the objective 'binary:logistic' was changed from 'error' to 'logloss'. Explicitly set eval_metric if you'd like to restore the old behavior.\n",
      "[21:15:33] WARNING: C:\\Windows\\Temp\\abs_557yfx631l\\croots\\recipe\\xgboost-split_1659548953302\\work\\src\\learner.cc:1115: Starting in XGBoost 1.3.0, the default evaluation metric used with the objective 'binary:logistic' was changed from 'error' to 'logloss'. Explicitly set eval_metric if you'd like to restore the old behavior.\n",
      "[21:15:38] WARNING: C:\\Windows\\Temp\\abs_557yfx631l\\croots\\recipe\\xgboost-split_1659548953302\\work\\src\\learner.cc:1115: Starting in XGBoost 1.3.0, the default evaluation metric used with the objective 'binary:logistic' was changed from 'error' to 'logloss'. Explicitly set eval_metric if you'd like to restore the old behavior.\n",
      "[21:15:43] WARNING: C:\\Windows\\Temp\\abs_557yfx631l\\croots\\recipe\\xgboost-split_1659548953302\\work\\src\\learner.cc:1115: Starting in XGBoost 1.3.0, the default evaluation metric used with the objective 'binary:logistic' was changed from 'error' to 'logloss'. Explicitly set eval_metric if you'd like to restore the old behavior.\n",
      "[21:15:47] WARNING: C:\\Windows\\Temp\\abs_557yfx631l\\croots\\recipe\\xgboost-split_1659548953302\\work\\src\\learner.cc:1115: Starting in XGBoost 1.3.0, the default evaluation metric used with the objective 'binary:logistic' was changed from 'error' to 'logloss'. Explicitly set eval_metric if you'd like to restore the old behavior.\n",
      "[21:15:51] WARNING: C:\\Windows\\Temp\\abs_557yfx631l\\croots\\recipe\\xgboost-split_1659548953302\\work\\src\\learner.cc:1115: Starting in XGBoost 1.3.0, the default evaluation metric used with the objective 'binary:logistic' was changed from 'error' to 'logloss'. Explicitly set eval_metric if you'd like to restore the old behavior.\n",
      "CHARLEVEL Doğruluk Oranı: 0.8469284259013199\n"
     ]
    }
   ],
   "source": [
    "xgb = xgboost.XGBClassifier()\n",
    "xgb_model = xgb.fit(x_train_tf_idf_chars,train_y)\n",
    "accuracy = model_selection.cross_val_score(xgb_model, \n",
    "                                           x_test_tf_idf_chars, \n",
    "                                           test_y, \n",
    "                                           cv = 10).mean()\n",
    "\n",
    "print(\"CHARLEVEL Doğruluk Oranı:\", accuracy)"
   ]
  },
  {
   "cell_type": "code",
   "execution_count": null,
   "id": "3854d9ef-3c68-4c7e-b14a-62bd48f820b1",
   "metadata": {},
   "outputs": [],
   "source": []
  },
  {
   "cell_type": "code",
   "execution_count": null,
   "id": "ea49400a-bbfd-42fd-ae36-4da70913d0f1",
   "metadata": {},
   "outputs": [],
   "source": []
  },
  {
   "cell_type": "code",
   "execution_count": null,
   "id": "96c13d72-1dad-49c8-b504-320bec1bfe0e",
   "metadata": {},
   "outputs": [],
   "source": []
  }
 ],
 "metadata": {
  "kernelspec": {
   "display_name": "Python 3 (ipykernel)",
   "language": "python",
   "name": "python3"
  },
  "language_info": {
   "codemirror_mode": {
    "name": "ipython",
    "version": 3
   },
   "file_extension": ".py",
   "mimetype": "text/x-python",
   "name": "python",
   "nbconvert_exporter": "python",
   "pygments_lexer": "ipython3",
   "version": "3.9.12"
  },
  "papermill": {
   "default_parameters": {},
   "duration": 782.625776,
   "end_time": "2022-09-26T05:52:57.728246",
   "environment_variables": {},
   "exception": null,
   "input_path": "__notebook__.ipynb",
   "output_path": "__notebook__.ipynb",
   "parameters": {},
   "start_time": "2022-09-26T05:39:55.102470",
   "version": "2.3.4"
  }
 },
 "nbformat": 4,
 "nbformat_minor": 5
}
