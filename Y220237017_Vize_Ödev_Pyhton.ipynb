{
 "cells": [
  {
   "cell_type": "markdown",
   "id": "d7b3ed63-412e-43a6-9fc3-93a86e0ef1ba",
   "metadata": {},
   "source": [
    "<p style = \"font-size : 50px; color : #532eff ; font-family : 'Times Ner Roman'; text-align : center; background-color : #bedaff; border-radius: 5px 5px;\"><strong>HESAP MAKİNESİ</strong></p>"
   ]
  },
  {
   "cell_type": "markdown",
   "id": "c8732c75-f209-4403-9b4a-618d260d252b",
   "metadata": {},
   "source": [
    "<p style = \"font-size : 25px; color : #532e1f ; font-family : 'Times Ner Roman'; text-align : center; background-color : #bedaff; border-radius: 5px 5px;\"><strong>İbrahim AYDIN-Y220237017 Yazılım Müh. YL (Tezli) PYTHON PROGRAMLAMA DERSİ 2.Dönem Vize Ödevi</strong></p>"
   ]
  },
  {
   "cell_type": "markdown",
   "id": "398230be-4417-4097-8a43-5beb8f4fa3a3",
   "metadata": {},
   "source": [
    "## Bu program temel matematiksel işlevlerin uygulanmasını içerir. Hesap mekinesi programı çalıştırıldığında ilk olrak kkullanıcıya şifre sorulacaktır.\n",
    "## Şifre \"ibrahim\" kelimesidir.\n",
    "## Şifre sonrasında karşımıza menu çıkacaktır. Menüden seçimler yapılarak işlemler gerçekleştirilir.\n",
    "## Çıkış için e veya E karakterine basıldığında tekrar geri dönüş için fırsat verilir. 1 tuşu ile programdan çıkılmadan tekrar menülere geçilebilir.\n",
    "## Program if, elif, else, while, for, def yapılarını içerir."
   ]
  },
  {
   "cell_type": "code",
   "execution_count": null,
   "id": "aaa0835d-1402-4312-9bc5-2d85517b9391",
   "metadata": {},
   "outputs": [],
   "source": [
    "# Toplama Fonksiyonu Tanımlanıyor\n",
    "def toplama(x,y):\n",
    "    return x + y;"
   ]
  },
  {
   "cell_type": "code",
   "execution_count": null,
   "id": "2f9f1f11-fa31-4015-9d75-a7ff86e31b2f",
   "metadata": {},
   "outputs": [],
   "source": [
    "# Çıkarma Fonksiyonu Tanımlanıyor\n",
    "def cikarma(x,y):\n",
    "    return x - y;"
   ]
  },
  {
   "cell_type": "code",
   "execution_count": null,
   "id": "94dfa431-48f6-44ca-835b-e1d8cd276461",
   "metadata": {},
   "outputs": [],
   "source": [
    "# Çarpma Fonksiyonu Tanımlanıyor\n",
    "def carpma(x,y):\n",
    "    return x * y;"
   ]
  },
  {
   "cell_type": "code",
   "execution_count": null,
   "id": "fa97bb35-b602-4eaf-9cda-6329e9057f63",
   "metadata": {},
   "outputs": [],
   "source": [
    "# Bölme Fonksiyonu Tanımlanıyor\n",
    "def bolme(x,y):\n",
    "    return x / y;"
   ]
  },
  {
   "cell_type": "code",
   "execution_count": null,
   "id": "b1a4b6aa-8007-46ee-a951-c871a8581567",
   "metadata": {},
   "outputs": [],
   "source": [
    "# Üs alma Fonksiyonu Tanımlanıyor\n",
    "def usalma(x,y):\n",
    "    return x ** y;"
   ]
  },
  {
   "cell_type": "code",
   "execution_count": null,
   "id": "e523f1e8-639e-4e95-8e7e-92362fd8b1f5",
   "metadata": {},
   "outputs": [],
   "source": [
    "# Bölümden Kalan Sayıyı Bulma Fonksiyonu Tanımlanıyor\n",
    "def bolumdenkalan(x,y):\n",
    "    return x % y;"
   ]
  },
  {
   "cell_type": "code",
   "execution_count": null,
   "id": "50b7b25d-85eb-4016-a5c6-094df901aa59",
   "metadata": {},
   "outputs": [],
   "source": [
    "# Faktoriyel Fonksiyonu Tanımlanıyor\n",
    "def faktoriyel(x):\n",
    "    f=1  \n",
    "    if x == 1 or x == 0:\n",
    "        return 1\n",
    "    else:\n",
    "        for i in range(1,x+1):\n",
    "            f = f*i\n",
    "    return f"
   ]
  },
  {
   "cell_type": "code",
   "execution_count": null,
   "id": "e46c4f19-3c06-48ce-a127-7e36bf5835fe",
   "metadata": {},
   "outputs": [],
   "source": [
    "# Programı Terk Etme Fonksiyonu Tanımlanıyor. Programdan çıkılmak istenmiyorsa 1 tuşuna basılmalıdır.\n",
    "def terk():\n",
    "    print (\"Programdan çıkmak üzeresiniz\\n\")\n",
    "    giris=input(\"Çıkış için herhangi bir tuşa, Tekrar Giriş İçin 1 Tuşuna Basınız.--->\")\n",
    "    if giris=='1':\n",
    "        menu()\n",
    "    else:\n",
    "        print(\"********** ÇIKIŞ YAPILDI **************\")\n",
    "\n",
    "    "
   ]
  },
  {
   "cell_type": "code",
   "execution_count": null,
   "id": "50861f18-af40-48bd-912d-584da42f508d",
   "metadata": {},
   "outputs": [],
   "source": [
    "# Menü yazdırma ve işlem seçimi yapılmaktadır. \n",
    "def menu():\n",
    "    # Tüm seçimler bir dizide turulur.\n",
    "    secimler = ['1', '2', '3', '4', '5','6','7','8']               \n",
    "    # seçime öncelikle 0 değeri verilir. İÇıkış isteği bir değişkende tutulur. İlk değer false verilir.\n",
    "    secim = '0'                                                 \n",
    "    cikis = False\n",
    "    # Seçimler dizisi içeriği harici giriş yapıldığında tekrar menüye dönülür.\n",
    "    while not cikis:   #Çıkış değişkeni false olduğu sürece menüler ekrana yazılabilir\n",
    "        while not cikis and secim not in secimler:     \n",
    "            # Çıkış değişkeni false ve seçimler dizisinden bir geçerli seçim değilse (ki ilk değer 0 yaptık) ekrana menü yazdırılıyor.\n",
    "            \n",
    "            print(\"\\n*************** İŞLEMLER *****************\")\n",
    "            print(\"**                                      **\")\n",
    "            print(\"**           1.Toplama                  **\")\n",
    "            print(\"**           2.Çıkarma                  **\")\n",
    "            print(\"**           3.Çarpma                   **\")\n",
    "            print(\"**           4.Bölme                    **\")\n",
    "            print(\"**           5.Üs Alma                  **\")\n",
    "            print(\"**           6.Bölümden Kalan           **\")\n",
    "            print(\"**           7.Faktoriyel               **\")\n",
    "            print(\"**           8.Çıkış                    **\")\n",
    "            print(\"**                                      **\")\n",
    "            print(\"******************************************\")\n",
    "            \n",
    "            secim = input(\"Seçiminiz (1-8) ------> \")\n",
    "   \n",
    " #Seçilenişleme göre işlemler gerçekleştirilir. Her işlemin sonunda menü fonksiyonuna dönülür. \n",
    " #Eğer 1-8 haricinde bir değer girilirse seçim 0 yapılır ve tekrar menü yazdırılır. Böyleikle programın devamlılığı sağlanır.\n",
    "    \n",
    "            if secim == '1':\n",
    "                print(\"***** TOPLAMA *****\\n\")\n",
    "                say1 = int(input(\"1. Sayıyı Giriniz = \"))\n",
    "                say2 = int(input(\"2. Sayıyı Giriniz = \"))\n",
    "                print(say1, \"+\", say2, \"=\", toplama(say1,say2))\n",
    "                menu()    \n",
    "                \n",
    "            elif secim == '2':\n",
    "                print(\"***** ÇIKARMA *****\\n\")\n",
    "                say1 = int(input(\"1. Sayıyı Giriniz = \"))\n",
    "                say2 = int(input(\"2. Sayıyı Giriniz = \"))\n",
    "                print(say1, \"-\", say2, \"=\", cikarma(say1,say2))\n",
    "                menu()\n",
    "                \n",
    "            elif secim == '3':\n",
    "                print(\"***** ÇARPMA *****\\n\")\n",
    "                say1 = int(input(\"1. Sayıyı Giriniz = \"))\n",
    "                say2 = int(input(\"2. Sayıyı Giriniz = \"))\n",
    "                print(say1, \"*\", say2, \"=\", carpma(say1,say2))\n",
    "                menu()\n",
    "                \n",
    "            elif secim == '4':\n",
    "                print(\"***** BÖLME ******\\n\")\n",
    "                say1 = int(input(\"1. Sayıyı Giriniz = \"))\n",
    "                say2 = int(input(\"2. Sayıyı Giriniz = \"))\n",
    "                print(say1, \"/\", say2, \"=\", bolme(say1,say2))\n",
    "                menu()\n",
    "                \n",
    "            elif secim == '5':\n",
    "                print(\"***** ÜS ALMA *****\\n\")\n",
    "                say1 = int(input(\"1. Sayıyı Giriniz = \"))\n",
    "                say2 = int(input(\"2. Sayıyı Giriniz = \"))\n",
    "                print(say1, \"^\", say2, \"=\", usalma(say1,say2))    \n",
    "                menu()\n",
    "                \n",
    "            elif secim == '6':\n",
    "                print(\"***** BÖLÜMDEN KALAN *****\\n\")\n",
    "                say1 = int(input(\"1. Sayıyı Giriniz = \"))\n",
    "                say2 = int(input(\"2. Sayıyı Giriniz = \"))\n",
    "                print(say1, \"%\", say2, \"=\", bolumdenkalan(say1,say2))\n",
    "                menu()\n",
    "                \n",
    "            elif secim == '7':\n",
    "                print(\"***** FAKTORİYEL *****\\n\")\n",
    "                sayi = int(input(\"Sayı Girin = \"))\n",
    "                print(sayi, \"!  =\", faktoriyel(sayi))\n",
    "                menu()\n",
    " # Çıkılmak istendiğinde e/h ile kontrol yapılır. \n",
    " # Eğer çıkılmak isteniyorsa çıkış değişkeni true yapılır ve son bir dönüş hakkı için kullanıcı, tertk fonksiyonuna yönlendirilir.               \n",
    "            elif secim == '8':\n",
    "                cevap=input(\"Çıkmak istediğinizden emin misiniz? (e/h) --->:\")\n",
    "                if cevap =='e' or cevap=='E':\n",
    "                    cikis=True\n",
    "                    terk()\n",
    "                else:\n",
    "                    cikis=False\n",
    "                    menu()\n",
    "                \n",
    "           \n",
    "        return"
   ]
  },
  {
   "cell_type": "code",
   "execution_count": null,
   "id": "13d3aeef-d7db-421e-9430-2830986d30fa",
   "metadata": {},
   "outputs": [],
   "source": [
    "# Ana program şifre sorgulama ve sonrasında menu() fonksiyonuna yönlendirme satırlarından oluşur.\n",
    "sifre=input(\"Şifreyi giriniz----->\")\n",
    "\n",
    "#şifre doğrulanana kadar tekrar şifre istenir. Şifre \"ibrahim\" kelimesidir.\n",
    "\n",
    "while sifre !=\"ibrahim\":\n",
    "    sifre=input(\"!!! Şifre YANLIŞ , tekrar deneyiniz----->\")\n",
    "print(\"\\n\")    \n",
    "menu()"
   ]
  },
  {
   "cell_type": "markdown",
   "id": "ebc63255-4c6e-49cf-bd9f-57cdcc03089b",
   "metadata": {},
   "source": [
    "## Kaynaklar"
   ]
  },
  {
   "cell_type": "markdown",
   "id": "82f51f8b-416c-4a86-9be3-42a917ae5700",
   "metadata": {},
   "source": [
    "#### 1. bilisimkonulari.com, https://www.bilisimkonulari.com/python-basit-hesap-makinasi-yapimi.html, Erişim Tarihi: 01.04.2023"
   ]
  },
  {
   "cell_type": "markdown",
   "id": "163bd65f-e430-49f8-810b-2559dff9b1df",
   "metadata": {},
   "source": [
    "#### 2. mobilhanem.com, https://www.mobilhanem.com/python-egitimi/, Erişim Tarihi: 01.04.2023"
   ]
  },
  {
   "cell_type": "markdown",
   "id": "bfb067b1-31c0-4add-a0dc-cb08bb5c4c6c",
   "metadata": {},
   "source": [
    "#### 3. Özgül, F. (2015), Her Yönüyle Python, Kodlab"
   ]
  }
 ],
 "metadata": {
  "kernelspec": {
   "display_name": "Python 3 (ipykernel)",
   "language": "python",
   "name": "python3"
  },
  "language_info": {
   "codemirror_mode": {
    "name": "ipython",
    "version": 3
   },
   "file_extension": ".py",
   "mimetype": "text/x-python",
   "name": "python",
   "nbconvert_exporter": "python",
   "pygments_lexer": "ipython3",
   "version": "3.9.12"
  }
 },
 "nbformat": 4,
 "nbformat_minor": 5
}
