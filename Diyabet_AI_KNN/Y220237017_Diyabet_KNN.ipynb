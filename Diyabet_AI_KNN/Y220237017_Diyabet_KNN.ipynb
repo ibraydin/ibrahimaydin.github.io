{
 "cells": [
  {
   "cell_type": "markdown",
   "id": "6006163c-1091-49e0-b215-1f727c15aab4",
   "metadata": {},
   "source": [
    "# İbrahim AYDIN-Y220237017 Yazılım Müh. YL (Tezli) 2.Dönem \"Pyhton Programlama\" Dersi Final Ödevi"
   ]
  },
  {
   "cell_type": "markdown",
   "id": "11f51a37",
   "metadata": {
    "tags": []
   },
   "source": [
    "##  KNN (K- En Yakın Komşu) Algoritması İle YapayZeka/Makine Öğrenmesi İncelemesi\n"
   ]
  },
  {
   "cell_type": "markdown",
   "id": "5715e9cc-6533-4ada-b66e-d61d549b7063",
   "metadata": {},
   "source": [
    "### Machine Learning modellerinden \"KNN Modelini\" Python'da \"şeker hastalığı veri seti\" örneğiyle inceliyorum."
   ]
  },
  {
   "cell_type": "markdown",
   "id": "4573b9cc",
   "metadata": {},
   "source": [
    "## KÜTÜPHANELERİ YÜKLEDİKTEN SONRA VERİ SETİMİ HAZIR HALE GETİRİYORUM"
   ]
  },
  {
   "cell_type": "code",
   "execution_count": 1,
   "id": "58be1ea2-6fc6-4bd3-acf9-7a69948096c9",
   "metadata": {},
   "outputs": [
    {
     "data": {
      "text/html": [
       "<div>\n",
       "<style scoped>\n",
       "    .dataframe tbody tr th:only-of-type {\n",
       "        vertical-align: middle;\n",
       "    }\n",
       "\n",
       "    .dataframe tbody tr th {\n",
       "        vertical-align: top;\n",
       "    }\n",
       "\n",
       "    .dataframe thead th {\n",
       "        text-align: right;\n",
       "    }\n",
       "</style>\n",
       "<table border=\"1\" class=\"dataframe\">\n",
       "  <thead>\n",
       "    <tr style=\"text-align: right;\">\n",
       "      <th></th>\n",
       "      <th>Pregnancies</th>\n",
       "      <th>Glucose</th>\n",
       "      <th>BloodPressure</th>\n",
       "      <th>SkinThickness</th>\n",
       "      <th>Insulin</th>\n",
       "      <th>BMI</th>\n",
       "      <th>DiabetesPedigreeFunction</th>\n",
       "      <th>Age</th>\n",
       "      <th>Outcome</th>\n",
       "    </tr>\n",
       "  </thead>\n",
       "  <tbody>\n",
       "    <tr>\n",
       "      <th>0</th>\n",
       "      <td>6</td>\n",
       "      <td>148</td>\n",
       "      <td>72</td>\n",
       "      <td>35</td>\n",
       "      <td>0</td>\n",
       "      <td>33.6</td>\n",
       "      <td>0.627</td>\n",
       "      <td>50</td>\n",
       "      <td>1</td>\n",
       "    </tr>\n",
       "    <tr>\n",
       "      <th>1</th>\n",
       "      <td>1</td>\n",
       "      <td>85</td>\n",
       "      <td>66</td>\n",
       "      <td>29</td>\n",
       "      <td>0</td>\n",
       "      <td>26.6</td>\n",
       "      <td>0.351</td>\n",
       "      <td>31</td>\n",
       "      <td>0</td>\n",
       "    </tr>\n",
       "    <tr>\n",
       "      <th>2</th>\n",
       "      <td>8</td>\n",
       "      <td>183</td>\n",
       "      <td>64</td>\n",
       "      <td>0</td>\n",
       "      <td>0</td>\n",
       "      <td>23.3</td>\n",
       "      <td>0.672</td>\n",
       "      <td>32</td>\n",
       "      <td>1</td>\n",
       "    </tr>\n",
       "    <tr>\n",
       "      <th>3</th>\n",
       "      <td>1</td>\n",
       "      <td>89</td>\n",
       "      <td>66</td>\n",
       "      <td>23</td>\n",
       "      <td>94</td>\n",
       "      <td>28.1</td>\n",
       "      <td>0.167</td>\n",
       "      <td>21</td>\n",
       "      <td>0</td>\n",
       "    </tr>\n",
       "    <tr>\n",
       "      <th>4</th>\n",
       "      <td>0</td>\n",
       "      <td>137</td>\n",
       "      <td>40</td>\n",
       "      <td>35</td>\n",
       "      <td>168</td>\n",
       "      <td>43.1</td>\n",
       "      <td>2.288</td>\n",
       "      <td>33</td>\n",
       "      <td>1</td>\n",
       "    </tr>\n",
       "  </tbody>\n",
       "</table>\n",
       "</div>"
      ],
      "text/plain": [
       "   Pregnancies  Glucose  BloodPressure  SkinThickness  Insulin   BMI  \\\n",
       "0            6      148             72             35        0  33.6   \n",
       "1            1       85             66             29        0  26.6   \n",
       "2            8      183             64              0        0  23.3   \n",
       "3            1       89             66             23       94  28.1   \n",
       "4            0      137             40             35      168  43.1   \n",
       "\n",
       "   DiabetesPedigreeFunction  Age  Outcome  \n",
       "0                     0.627   50        1  \n",
       "1                     0.351   31        0  \n",
       "2                     0.672   32        1  \n",
       "3                     0.167   21        0  \n",
       "4                     2.288   33        1  "
      ]
     },
     "execution_count": 1,
     "metadata": {},
     "output_type": "execute_result"
    }
   ],
   "source": [
    "#Kütüphaneleri import ediyorum.\n",
    "\n",
    "import pandas as pd\n",
    "import matplotlib.pyplot as plt\n",
    "import numpy as np\n",
    "from sklearn.model_selection import train_test_split\n",
    "from sklearn.neighbors import KNeighborsClassifier\n",
    "\n",
    "\n",
    "# DataSeti tüklüyor ve yazdırıyorum.\n",
    "\n",
    "data = pd.read_csv(\"diabetes.csv\")\n",
    "data.head()"
   ]
  },
  {
   "cell_type": "code",
   "execution_count": 2,
   "id": "033f2acf-b5a8-4045-a06a-3e0d85ca2824",
   "metadata": {},
   "outputs": [
    {
     "name": "stdout",
     "output_type": "stream",
     "text": [
      "<class 'pandas.core.frame.DataFrame'>\n",
      "RangeIndex: 768 entries, 0 to 767\n",
      "Data columns (total 9 columns):\n",
      " #   Column                    Non-Null Count  Dtype  \n",
      "---  ------                    --------------  -----  \n",
      " 0   Pregnancies               768 non-null    int64  \n",
      " 1   Glucose                   768 non-null    int64  \n",
      " 2   BloodPressure             768 non-null    int64  \n",
      " 3   SkinThickness             768 non-null    int64  \n",
      " 4   Insulin                   768 non-null    int64  \n",
      " 5   BMI                       768 non-null    float64\n",
      " 6   DiabetesPedigreeFunction  768 non-null    float64\n",
      " 7   Age                       768 non-null    int64  \n",
      " 8   Outcome                   768 non-null    int64  \n",
      "dtypes: float64(2), int64(7)\n",
      "memory usage: 54.1 KB\n"
     ]
    }
   ],
   "source": [
    "data.info()  #Hem Kayıt sayısını, hem veri tiplerini hem de veri girilmemiş alanları göreyim."
   ]
  },
  {
   "cell_type": "code",
   "execution_count": 3,
   "id": "90b0ccb9-76a6-4895-97ad-c721e662ce3d",
   "metadata": {},
   "outputs": [
    {
     "data": {
      "text/plain": [
       "Pregnancies                 0\n",
       "Glucose                     0\n",
       "BloodPressure               0\n",
       "SkinThickness               0\n",
       "Insulin                     0\n",
       "BMI                         0\n",
       "DiabetesPedigreeFunction    0\n",
       "Age                         0\n",
       "Outcome                     0\n",
       "dtype: int64"
      ]
     },
     "execution_count": 3,
     "metadata": {},
     "output_type": "execute_result"
    }
   ],
   "source": [
    "#768 tane kaydın olduğunu ve null verisi olmadığını görüyorum. Fakat kayıtlarda insülin değerlerinden 0 oalnlar var. \n",
    "# Bu yanlış girilmiştir. Bu değerleri değiştirmek gerekiyor.\n",
    "data.isnull().sum()"
   ]
  },
  {
   "cell_type": "code",
   "execution_count": 4,
   "id": "3a927cfb",
   "metadata": {},
   "outputs": [
    {
     "data": {
      "text/plain": [
       "Pregnancies                 111\n",
       "Glucose                       5\n",
       "BloodPressure                35\n",
       "SkinThickness               227\n",
       "Insulin                     374\n",
       "BMI                          11\n",
       "DiabetesPedigreeFunction      0\n",
       "Age                           0\n",
       "Outcome                     500\n",
       "dtype: int64"
      ]
     },
     "execution_count": 4,
     "metadata": {},
     "output_type": "execute_result"
    }
   ],
   "source": [
    "data.eq(0).sum() # Hangi değişkende kaç tane 0 değeri var?"
   ]
  },
  {
   "cell_type": "code",
   "execution_count": 5,
   "id": "4c12493a",
   "metadata": {},
   "outputs": [],
   "source": [
    "# Glukoz, insülin, kan basınıcı gibi değerlerin 0 olamayacağını belirliyorum. \n",
    "# Ve İşleme katılmaması gereken 0 değerlerini NaN ile değiştriyorum. Yeni Seti eşitliyorum.\n",
    "\n",
    "data[['Glucose','BloodPressure','SkinThickness','Insulin','BMI','DiabetesPedigreeFunction','Age']]=data[['Glucose','BloodPressure','SkinThickness','Insulin','BMI','DiabetesPedigreeFunction','Age']].replace(0,np.NaN)"
   ]
  },
  {
   "cell_type": "code",
   "execution_count": 6,
   "id": "9bd2243e",
   "metadata": {},
   "outputs": [],
   "source": [
    "# Şimdi de NaN ile ifade ettiğim eksik değerlerin yerine her bir özelliğin ortalaması ile dolduruyorum.\n",
    "data.fillna(data.mean(),inplace=True)\n"
   ]
  },
  {
   "cell_type": "code",
   "execution_count": 7,
   "id": "4e59e826",
   "metadata": {},
   "outputs": [
    {
     "data": {
      "text/html": [
       "<div>\n",
       "<style scoped>\n",
       "    .dataframe tbody tr th:only-of-type {\n",
       "        vertical-align: middle;\n",
       "    }\n",
       "\n",
       "    .dataframe tbody tr th {\n",
       "        vertical-align: top;\n",
       "    }\n",
       "\n",
       "    .dataframe thead th {\n",
       "        text-align: right;\n",
       "    }\n",
       "</style>\n",
       "<table border=\"1\" class=\"dataframe\">\n",
       "  <thead>\n",
       "    <tr style=\"text-align: right;\">\n",
       "      <th></th>\n",
       "      <th>Pregnancies</th>\n",
       "      <th>Glucose</th>\n",
       "      <th>BloodPressure</th>\n",
       "      <th>SkinThickness</th>\n",
       "      <th>Insulin</th>\n",
       "      <th>BMI</th>\n",
       "      <th>DiabetesPedigreeFunction</th>\n",
       "      <th>Age</th>\n",
       "      <th>Outcome</th>\n",
       "    </tr>\n",
       "  </thead>\n",
       "  <tbody>\n",
       "    <tr>\n",
       "      <th>0</th>\n",
       "      <td>6</td>\n",
       "      <td>148.0</td>\n",
       "      <td>72.0</td>\n",
       "      <td>35.00000</td>\n",
       "      <td>155.548223</td>\n",
       "      <td>33.6</td>\n",
       "      <td>0.627</td>\n",
       "      <td>50</td>\n",
       "      <td>1</td>\n",
       "    </tr>\n",
       "    <tr>\n",
       "      <th>1</th>\n",
       "      <td>1</td>\n",
       "      <td>85.0</td>\n",
       "      <td>66.0</td>\n",
       "      <td>29.00000</td>\n",
       "      <td>155.548223</td>\n",
       "      <td>26.6</td>\n",
       "      <td>0.351</td>\n",
       "      <td>31</td>\n",
       "      <td>0</td>\n",
       "    </tr>\n",
       "    <tr>\n",
       "      <th>2</th>\n",
       "      <td>8</td>\n",
       "      <td>183.0</td>\n",
       "      <td>64.0</td>\n",
       "      <td>29.15342</td>\n",
       "      <td>155.548223</td>\n",
       "      <td>23.3</td>\n",
       "      <td>0.672</td>\n",
       "      <td>32</td>\n",
       "      <td>1</td>\n",
       "    </tr>\n",
       "    <tr>\n",
       "      <th>3</th>\n",
       "      <td>1</td>\n",
       "      <td>89.0</td>\n",
       "      <td>66.0</td>\n",
       "      <td>23.00000</td>\n",
       "      <td>94.000000</td>\n",
       "      <td>28.1</td>\n",
       "      <td>0.167</td>\n",
       "      <td>21</td>\n",
       "      <td>0</td>\n",
       "    </tr>\n",
       "    <tr>\n",
       "      <th>4</th>\n",
       "      <td>0</td>\n",
       "      <td>137.0</td>\n",
       "      <td>40.0</td>\n",
       "      <td>35.00000</td>\n",
       "      <td>168.000000</td>\n",
       "      <td>43.1</td>\n",
       "      <td>2.288</td>\n",
       "      <td>33</td>\n",
       "      <td>1</td>\n",
       "    </tr>\n",
       "  </tbody>\n",
       "</table>\n",
       "</div>"
      ],
      "text/plain": [
       "   Pregnancies  Glucose  BloodPressure  SkinThickness     Insulin   BMI  \\\n",
       "0            6    148.0           72.0       35.00000  155.548223  33.6   \n",
       "1            1     85.0           66.0       29.00000  155.548223  26.6   \n",
       "2            8    183.0           64.0       29.15342  155.548223  23.3   \n",
       "3            1     89.0           66.0       23.00000   94.000000  28.1   \n",
       "4            0    137.0           40.0       35.00000  168.000000  43.1   \n",
       "\n",
       "   DiabetesPedigreeFunction  Age  Outcome  \n",
       "0                     0.627   50        1  \n",
       "1                     0.351   31        0  \n",
       "2                     0.672   32        1  \n",
       "3                     0.167   21        0  \n",
       "4                     2.288   33        1  "
      ]
     },
     "execution_count": 7,
     "metadata": {},
     "output_type": "execute_result"
    }
   ],
   "source": [
    "data.head() #DataSeti tekrar yazdırdığımızda 0 değerlerinin yerine ortalama değerlerin geldiğini görüyorum."
   ]
  },
  {
   "cell_type": "code",
   "execution_count": 8,
   "id": "78d5a55b",
   "metadata": {},
   "outputs": [
    {
     "data": {
      "text/plain": [
       "Pregnancies                 0\n",
       "Glucose                     0\n",
       "BloodPressure               0\n",
       "SkinThickness               0\n",
       "Insulin                     0\n",
       "BMI                         0\n",
       "DiabetesPedigreeFunction    0\n",
       "Age                         0\n",
       "Outcome                     0\n",
       "dtype: int64"
      ]
     },
     "execution_count": 8,
     "metadata": {},
     "output_type": "execute_result"
    }
   ],
   "source": [
    "#Son kontrollerimi yapıyorum.Null ve 0 değerleri sayısına bakıyroum\n",
    "data.isnull().sum() "
   ]
  },
  {
   "cell_type": "code",
   "execution_count": 9,
   "id": "7f100f01",
   "metadata": {},
   "outputs": [
    {
     "data": {
      "text/plain": [
       "Pregnancies                 111\n",
       "Glucose                       0\n",
       "BloodPressure                 0\n",
       "SkinThickness                 0\n",
       "Insulin                       0\n",
       "BMI                           0\n",
       "DiabetesPedigreeFunction      0\n",
       "Age                           0\n",
       "Outcome                     500\n",
       "dtype: int64"
      ]
     },
     "execution_count": 9,
     "metadata": {},
     "output_type": "execute_result"
    }
   ],
   "source": [
    "data.eq(0).sum()"
   ]
  },
  {
   "cell_type": "code",
   "execution_count": 10,
   "id": "915f92bc",
   "metadata": {},
   "outputs": [],
   "source": [
    "# Görülen şu ki mesela ilk kayıt olan hamilelik sayısı ile şeker hastalığının arasındaki ilişki 0.22 (%22) imiş.\n",
    "# Glukoz miktarıyla ise şeker hastalığı arasındaki ilişki ise 0.49 (%49) imiş."
   ]
  },
  {
   "cell_type": "code",
   "execution_count": 11,
   "id": "8cc7764d-fb6a-40ac-975c-336c7d282741",
   "metadata": {},
   "outputs": [
    {
     "data": {
      "image/png": "[encoded data removed]",
      "text/plain": [
       "<Figure size 432x288 with 1 Axes>"
      ]
     },
     "metadata": {
      "needs_background": "light"
     },
     "output_type": "display_data"
    }
   ],
   "source": [
    "# Outcome = 1 Diabet/Şeker Hastası\n",
    "# Outcome = 0 Sağlıklı\n",
    "\n",
    "seker_hastalari = data[data.Outcome == 1]\n",
    "saglikli_insanlar = data[data.Outcome == 0]\n",
    "\n",
    "\n",
    "# Şimdilik sadece glukoza'a bakarak örnek bir çizimini yapıyorum:\n",
    "# Programımızın sonunda makine öğrenme modelim sadece glukoza değil tüm diğer verilere bakarak bir tahmin yapacaktır.\n",
    "\n",
    "plt.scatter(saglikli_insanlar.Age, saglikli_insanlar.Glucose, color=\"green\", label=\"Sağlıklı İnsan\", alpha = 0.6)  #0.6 değeri değiştirilebilir\n",
    "plt.scatter(seker_hastalari.Age, seker_hastalari.Glucose, color=\"red\", label=\"Şeker Hastası\", alpha = 0.6)         #0.6 değeri değiştirilebilir\n",
    "plt.xlabel(\"Yaş\")\n",
    "plt.ylabel(\"Glukoz (Kan Şekeri) Miktarı\")\n",
    "plt.legend()\n",
    "plt.show()"
   ]
  },
  {
   "cell_type": "code",
   "execution_count": 12,
   "id": "4d2de0ed",
   "metadata": {},
   "outputs": [
    {
     "data": {
      "text/html": [
       "<div>\n",
       "<style scoped>\n",
       "    .dataframe tbody tr th:only-of-type {\n",
       "        vertical-align: middle;\n",
       "    }\n",
       "\n",
       "    .dataframe tbody tr th {\n",
       "        vertical-align: top;\n",
       "    }\n",
       "\n",
       "    .dataframe thead th {\n",
       "        text-align: right;\n",
       "    }\n",
       "</style>\n",
       "<table border=\"1\" class=\"dataframe\">\n",
       "  <thead>\n",
       "    <tr style=\"text-align: right;\">\n",
       "      <th></th>\n",
       "      <th>Pregnancies</th>\n",
       "      <th>Glucose</th>\n",
       "      <th>BloodPressure</th>\n",
       "      <th>SkinThickness</th>\n",
       "      <th>Insulin</th>\n",
       "      <th>BMI</th>\n",
       "      <th>DiabetesPedigreeFunction</th>\n",
       "      <th>Age</th>\n",
       "      <th>Outcome</th>\n",
       "    </tr>\n",
       "  </thead>\n",
       "  <tbody>\n",
       "    <tr>\n",
       "      <th>Pregnancies</th>\n",
       "      <td>1.000000</td>\n",
       "      <td>0.127911</td>\n",
       "      <td>0.208522</td>\n",
       "      <td>0.082989</td>\n",
       "      <td>0.056027</td>\n",
       "      <td>0.021565</td>\n",
       "      <td>-0.033523</td>\n",
       "      <td>0.544341</td>\n",
       "      <td>0.221898</td>\n",
       "    </tr>\n",
       "    <tr>\n",
       "      <th>Glucose</th>\n",
       "      <td>0.127911</td>\n",
       "      <td>1.000000</td>\n",
       "      <td>0.218367</td>\n",
       "      <td>0.192991</td>\n",
       "      <td>0.420157</td>\n",
       "      <td>0.230941</td>\n",
       "      <td>0.137060</td>\n",
       "      <td>0.266534</td>\n",
       "      <td>0.492928</td>\n",
       "    </tr>\n",
       "    <tr>\n",
       "      <th>BloodPressure</th>\n",
       "      <td>0.208522</td>\n",
       "      <td>0.218367</td>\n",
       "      <td>1.000000</td>\n",
       "      <td>0.192816</td>\n",
       "      <td>0.072517</td>\n",
       "      <td>0.281268</td>\n",
       "      <td>-0.002763</td>\n",
       "      <td>0.324595</td>\n",
       "      <td>0.166074</td>\n",
       "    </tr>\n",
       "    <tr>\n",
       "      <th>SkinThickness</th>\n",
       "      <td>0.082989</td>\n",
       "      <td>0.192991</td>\n",
       "      <td>0.192816</td>\n",
       "      <td>1.000000</td>\n",
       "      <td>0.158139</td>\n",
       "      <td>0.542398</td>\n",
       "      <td>0.100966</td>\n",
       "      <td>0.127872</td>\n",
       "      <td>0.215299</td>\n",
       "    </tr>\n",
       "    <tr>\n",
       "      <th>Insulin</th>\n",
       "      <td>0.056027</td>\n",
       "      <td>0.420157</td>\n",
       "      <td>0.072517</td>\n",
       "      <td>0.158139</td>\n",
       "      <td>1.000000</td>\n",
       "      <td>0.166586</td>\n",
       "      <td>0.098634</td>\n",
       "      <td>0.136734</td>\n",
       "      <td>0.214411</td>\n",
       "    </tr>\n",
       "    <tr>\n",
       "      <th>BMI</th>\n",
       "      <td>0.021565</td>\n",
       "      <td>0.230941</td>\n",
       "      <td>0.281268</td>\n",
       "      <td>0.542398</td>\n",
       "      <td>0.166586</td>\n",
       "      <td>1.000000</td>\n",
       "      <td>0.153400</td>\n",
       "      <td>0.025519</td>\n",
       "      <td>0.311924</td>\n",
       "    </tr>\n",
       "    <tr>\n",
       "      <th>DiabetesPedigreeFunction</th>\n",
       "      <td>-0.033523</td>\n",
       "      <td>0.137060</td>\n",
       "      <td>-0.002763</td>\n",
       "      <td>0.100966</td>\n",
       "      <td>0.098634</td>\n",
       "      <td>0.153400</td>\n",
       "      <td>1.000000</td>\n",
       "      <td>0.033561</td>\n",
       "      <td>0.173844</td>\n",
       "    </tr>\n",
       "    <tr>\n",
       "      <th>Age</th>\n",
       "      <td>0.544341</td>\n",
       "      <td>0.266534</td>\n",
       "      <td>0.324595</td>\n",
       "      <td>0.127872</td>\n",
       "      <td>0.136734</td>\n",
       "      <td>0.025519</td>\n",
       "      <td>0.033561</td>\n",
       "      <td>1.000000</td>\n",
       "      <td>0.238356</td>\n",
       "    </tr>\n",
       "    <tr>\n",
       "      <th>Outcome</th>\n",
       "      <td>0.221898</td>\n",
       "      <td>0.492928</td>\n",
       "      <td>0.166074</td>\n",
       "      <td>0.215299</td>\n",
       "      <td>0.214411</td>\n",
       "      <td>0.311924</td>\n",
       "      <td>0.173844</td>\n",
       "      <td>0.238356</td>\n",
       "      <td>1.000000</td>\n",
       "    </tr>\n",
       "  </tbody>\n",
       "</table>\n",
       "</div>"
      ],
      "text/plain": [
       "                          Pregnancies   Glucose  BloodPressure  SkinThickness  \\\n",
       "Pregnancies                  1.000000  0.127911       0.208522       0.082989   \n",
       "Glucose                      0.127911  1.000000       0.218367       0.192991   \n",
       "BloodPressure                0.208522  0.218367       1.000000       0.192816   \n",
       "SkinThickness                0.082989  0.192991       0.192816       1.000000   \n",
       "Insulin                      0.056027  0.420157       0.072517       0.158139   \n",
       "BMI                          0.021565  0.230941       0.281268       0.542398   \n",
       "DiabetesPedigreeFunction    -0.033523  0.137060      -0.002763       0.100966   \n",
       "Age                          0.544341  0.266534       0.324595       0.127872   \n",
       "Outcome                      0.221898  0.492928       0.166074       0.215299   \n",
       "\n",
       "                           Insulin       BMI  DiabetesPedigreeFunction  \\\n",
       "Pregnancies               0.056027  0.021565                 -0.033523   \n",
       "Glucose                   0.420157  0.230941                  0.137060   \n",
       "BloodPressure             0.072517  0.281268                 -0.002763   \n",
       "SkinThickness             0.158139  0.542398                  0.100966   \n",
       "Insulin                   1.000000  0.166586                  0.098634   \n",
       "BMI                       0.166586  1.000000                  0.153400   \n",
       "DiabetesPedigreeFunction  0.098634  0.153400                  1.000000   \n",
       "Age                       0.136734  0.025519                  0.033561   \n",
       "Outcome                   0.214411  0.311924                  0.173844   \n",
       "\n",
       "                               Age   Outcome  \n",
       "Pregnancies               0.544341  0.221898  \n",
       "Glucose                   0.266534  0.492928  \n",
       "BloodPressure             0.324595  0.166074  \n",
       "SkinThickness             0.127872  0.215299  \n",
       "Insulin                   0.136734  0.214411  \n",
       "BMI                       0.025519  0.311924  \n",
       "DiabetesPedigreeFunction  0.033561  0.173844  \n",
       "Age                       1.000000  0.238356  \n",
       "Outcome                   0.238356  1.000000  "
      ]
     },
     "execution_count": 12,
     "metadata": {},
     "output_type": "execute_result"
    }
   ],
   "source": [
    "#Korelasyon Analizi yaparak hangi değişkenler birbiriye ne kadar ilişkili olduğuna bakıyırum.\n",
    "#İki özellik arasında korelasyonun düşük olmasını, çıktıyı etki derecesinin (korelasyonun) yüksek olmasını bekliyorum.\n",
    "data.corr()"
   ]
  },
  {
   "cell_type": "code",
   "execution_count": 13,
   "id": "f67770f4",
   "metadata": {},
   "outputs": [],
   "source": [
    "# Korelasyon ısı haritasında görelim. Yüksek değerler daha yüksek ısıda görülecek.\n",
    "\n",
    "import seaborn as sns # Grafik kütüphanesi. \n"
   ]
  },
  {
   "cell_type": "code",
   "execution_count": 14,
   "id": "c861f167",
   "metadata": {},
   "outputs": [
    {
     "data": {
      "text/plain": [
       "<AxesSubplot:>"
      ]
     },
     "execution_count": 14,
     "metadata": {},
     "output_type": "execute_result"
    },
    {
     "data": {
      "image/png": "[encoded data removed]",
      "text/plain": [
       "<Figure size 432x288 with 2 Axes>"
      ]
     },
     "metadata": {
      "needs_background": "light"
     },
     "output_type": "display_data"
    }
   ],
   "source": [
    "sns.heatmap(data.corr())"
   ]
  },
  {
   "cell_type": "code",
   "execution_count": 15,
   "id": "d6cdce62",
   "metadata": {},
   "outputs": [],
   "source": [
    "# Siyah değerler 0 değeridir.Açık renkler istenmez. Şu grafikte özellikler arasında yüksek korelasyon etkileşme yok. \n",
    "# Koyu renkler baskın. İyi bir grafik."
   ]
  },
  {
   "cell_type": "markdown",
   "id": "c7ab8dd6",
   "metadata": {},
   "source": [
    "## VERİ SETİMİ HAZIR HALE GETİRDİM. KNN MODELİMİ HAZIRLIYORUM"
   ]
  },
  {
   "cell_type": "markdown",
   "id": "e28d2b7f",
   "metadata": {},
   "source": [
    "### ÖĞRETİMDE KULLANACAĞIM VERİ SETİNİ AYARLIYORUM. SONRASINDA NORMALİZASYONA GİDİYORUM."
   ]
  },
  {
   "cell_type": "code",
   "execution_count": 16,
   "id": "6ce3d7b3",
   "metadata": {},
   "outputs": [
    {
     "name": "stdout",
     "output_type": "stream",
     "text": [
      "Normalization öncesi ham veriler:\n",
      "\n",
      "   Pregnancies  Glucose  BloodPressure  SkinThickness     Insulin   BMI  \\\n",
      "0            6    148.0           72.0       35.00000  155.548223  33.6   \n",
      "1            1     85.0           66.0       29.00000  155.548223  26.6   \n",
      "2            8    183.0           64.0       29.15342  155.548223  23.3   \n",
      "3            1     89.0           66.0       23.00000   94.000000  28.1   \n",
      "4            0    137.0           40.0       35.00000  168.000000  43.1   \n",
      "\n",
      "   DiabetesPedigreeFunction  Age  \n",
      "0                     0.627   50  \n",
      "1                     0.351   31  \n",
      "2                     0.672   32  \n",
      "3                     0.167   21  \n",
      "4                     2.288   33  \n",
      "\n",
      "\n",
      "\n",
      "Normalization sonrası yapay zekaya eğitim için vereceğimiz veriler:\n",
      "\n",
      "   Pregnancies   Glucose  BloodPressure  SkinThickness   Insulin       BMI  \\\n",
      "0     0.352941  0.670968       0.489796       0.304348  0.170130  0.314928   \n",
      "1     0.058824  0.264516       0.428571       0.239130  0.170130  0.171779   \n",
      "2     0.470588  0.896774       0.408163       0.240798  0.170130  0.104294   \n",
      "3     0.058824  0.290323       0.428571       0.173913  0.096154  0.202454   \n",
      "4     0.000000  0.600000       0.163265       0.304348  0.185096  0.509202   \n",
      "\n",
      "   DiabetesPedigreeFunction       Age  \n",
      "0                  0.234415  0.483333  \n",
      "1                  0.116567  0.166667  \n",
      "2                  0.253629  0.183333  \n",
      "3                  0.038002  0.000000  \n",
      "4                  0.943638  0.200000  \n"
     ]
    },
    {
     "name": "stderr",
     "output_type": "stream",
     "text": [
      "C:\\ProgramData\\Anaconda3\\lib\\site-packages\\numpy\\core\\fromnumeric.py:84: FutureWarning: In a future version, DataFrame.min(axis=None) will return a scalar min over the entire DataFrame. To retain the old behavior, use 'frame.min(axis=0)' or just 'frame.min()'\n",
      "  return reduction(axis=axis, out=out, **passkwargs)\n",
      "C:\\ProgramData\\Anaconda3\\lib\\site-packages\\numpy\\core\\fromnumeric.py:84: FutureWarning: In a future version, DataFrame.max(axis=None) will return a scalar max over the entire DataFrame. To retain the old behavior, use 'frame.max(axis=0)' or just 'frame.max()'\n",
      "  return reduction(axis=axis, out=out, **passkwargs)\n"
     ]
    }
   ],
   "source": [
    "# x ve y eksenlerini belirliyorum\n",
    "y = data.Outcome.values\n",
    "x_ham_veri = data.drop([\"Outcome\"],axis=1)    # Bağımlı Değişken (dependent variable) olan Outcome sütununu çıkarıyorum, \n",
    "\n",
    "#Çüknü KNN algoritması x değerleri ile eğitim yapacak..\n",
    "    \n",
    "# normalization yapıyorum - x_ham_veri içerisindeki değerleri sadece 0 ve 1 arasında olacak şekilde hepsini güncelliyorum\n",
    "# Eğer bu şekilde normalization yapmazsam yüksek rakamlar küçük rakamları ezer ve KNN algoritmasını yanıltabilir!\n",
    "x = (x_ham_veri - np.min(x_ham_veri))/(np.max(x_ham_veri)-np.min(x_ham_veri))\n",
    "\n",
    "# önce\n",
    "print(\"Normalization öncesi ham veriler:\\n\")\n",
    "print(x_ham_veri.head())\n",
    "\n",
    "\n",
    "# sonra \n",
    "print(\"\\n\\n\\nNormalization sonrası yapay zekaya eğitim için vereceğimiz veriler:\\n\")\n",
    "print(x.head())\n",
    "    \n",
    "\n"
   ]
  },
  {
   "cell_type": "markdown",
   "id": "3c96f043",
   "metadata": {},
   "source": [
    "### VERİ SETİMİ %80 ÖĞRENME İÇİN, %20 TEST İÇİN AYIRIYORUM"
   ]
  },
  {
   "cell_type": "code",
   "execution_count": 17,
   "id": "6270d96d",
   "metadata": {},
   "outputs": [
    {
     "name": "stdout",
     "output_type": "stream",
     "text": [
      "K=3 için Test verilerimizin doğrulama testi sonucu (Model Doğruluğu) = % 79.87012987012987\n"
     ]
    }
   ],
   "source": [
    "# train (Öğretici) datamız ile test datamızı ayırıyorum\n",
    "# train datamız sistemin sağlıklı insan ile hasta insanı ayırt etmesini öğrenmek için kullanılacak\n",
    "# test datamız ise bakalım makine öğrenme modelimiz doğru bir şekilde hasta ve sağlıklı insanları ayırt edebiliyor mu diye \n",
    "# test etmek için kullanılacak...\n",
    "\n",
    "x_train, x_test, y_train, y_test = train_test_split(x,y,test_size = 0.2,random_state=1)  \n",
    "\n",
    "# x normalize edilmiş değerler, y ise outcome yani 0-1\n",
    "# test_size ve random_state değeri ile oynayarak doğrullama test sonucunu değiştirebilirim.\n",
    "# Burada Datasetin %20sini (test_size=0.2) test için kullanacağım. (Yaklaşık 150 kişi) (Toplam 768 kayıt var)\n",
    "# %80 kısmını ise eğitmede kullanacağım.(Yaklaşık 600 kişi)... Töreler böyle :)\n",
    "# Bu seçimleri ise random şekilinde yapacağım.\n",
    "\n",
    "\n",
    "# knn modelimi oluşturuyorum.\n",
    "knn = KNeighborsClassifier(n_neighbors = 3)     # n_neighbors = k=3 (En yakın komşuluk sayısını 3 vermiş oluyorum) (Bu k sayısı ile oynayacağım)\n",
    "knn.fit(x_train,y_train)                        # Modelimi fit ediyorum yani eğitiyorum. X noramlize değerleri ve outcome(Çıktı) değerleriyle...\n",
    "prediction = knn.predict(x_test)                # %20 lik kısmı test için veriyorum.\n",
    "\n",
    "# K=3 için  Modelimin doğruluk oranını yazdırıyorum.\n",
    "print(\"K=3 için Test verilerimizin doğrulama testi sonucu (Model Doğruluğu) = %\", knn.score(x_test, y_test)*100)  \n",
    "\n"
   ]
  },
  {
   "cell_type": "code",
   "execution_count": 18,
   "id": "4650f1b5",
   "metadata": {},
   "outputs": [
    {
     "name": "stdout",
     "output_type": "stream",
     "text": [
      "K=  1 için Doğruluk Oranı= % 70.12987012987013\n",
      "K=  2 için Doğruluk Oranı= % 74.67532467532467\n",
      "K=  3 için Doğruluk Oranı= % 79.87012987012987\n",
      "K=  4 için Doğruluk Oranı= % 75.97402597402598\n",
      "K=  5 için Doğruluk Oranı= % 81.81818181818183\n",
      "K=  6 için Doğruluk Oranı= % 79.87012987012987\n",
      "K=  7 için Doğruluk Oranı= % 79.87012987012987\n",
      "K=  8 için Doğruluk Oranı= % 79.22077922077922\n",
      "K=  9 için Doğruluk Oranı= % 81.16883116883116\n",
      "K=  10 için Doğruluk Oranı= % 79.87012987012987\n"
     ]
    }
   ],
   "source": [
    "x_train, x_test, y_train, y_test = train_test_split(x,y,test_size = 0.2,random_state=1)\n",
    "# En yüksek doğruluk için k değeri kaç olmalı ?\n",
    "# en iyi k değerini bulalım..\n",
    "# for döngüsüyle k değerini 1 den 10 değerine kadar deneyeceğim. Sonuçları yazdıracağım. \n",
    "# Daha çok ve büyük k değeri seçimi  modelimi yavaşlatabilir ve doğru sonuç vermeyebilir.\n",
    "\n",
    "sayac = 1\n",
    "for k in range(1,11):\n",
    "    knn_yeni = KNeighborsClassifier(n_neighbors = k)\n",
    "    knn_yeni.fit(x_train,y_train)\n",
    "    print(\"K= \",sayac, \"için Doğruluk Oranı= %\", knn_yeni.score(x_test,y_test)*100)\n",
    "    sayac += 1\n",
    "    \n",
    " \n",
    "     "
   ]
  },
  {
   "cell_type": "code",
   "execution_count": 19,
   "id": "565c86b4-e294-4b76-b1f1-9b0fbc4246a0",
   "metadata": {},
   "outputs": [
    {
     "data": {
      "text/plain": [
       "<matplotlib.legend.Legend at 0x14be33befa0>"
      ]
     },
     "execution_count": 19,
     "metadata": {},
     "output_type": "execute_result"
    },
    {
     "data": {
      "image/png": "[encoded data removed]",
      "text/plain": [
       "<Figure size 432x288 with 1 Axes>"
      ]
     },
     "metadata": {
      "needs_background": "light"
     },
     "output_type": "display_data"
    }
   ],
   "source": [
    "egitim_dogruluk=[]\n",
    "test_dogruluk=[]\n",
    "x_train, x_test, y_train, y_test = train_test_split(x,y,test_size = 0.2,random_state=1)\n",
    "for komsu in range(1,11):   \n",
    "    knn_yeni2 = KNeighborsClassifier(n_neighbors = komsu)\n",
    "    knn_yeni2.fit(x_train,y_train)\n",
    "    egitim_dogruluk.append(knn_yeni2.score(x_train,y_train)*100)\n",
    "    test_dogruluk.append(knn_yeni2.score(x_test,y_test)*100)                    \n",
    "\n",
    "sayi= range(1,11)  \n",
    "plt.plot(sayi,egitim_dogruluk,label=\"Eğitim Doğruluk\")\n",
    "plt.plot(sayi,test_dogruluk,label='Test Doğruluk')\n",
    "plt.ylabel('Doğruluk')\n",
    "plt.xlabel('n-Komşuluk (K sayısı)')\n",
    "plt.legend()"
   ]
  },
  {
   "cell_type": "markdown",
   "id": "61327d40-121c-44cf-8e8a-6d0ded2533ba",
   "metadata": {},
   "source": [
    "### Grafikte En yüksek tahminli test sonucu değerinin K=5 değerinde olduğu görünüyor.(%81.81).   TEST DOĞRULUK DEĞERİ YÜKSEK OLAN 5 DEĞERİ K DEĞERİ OLARAK (KOMŞULUK SAYISI) MODELDE TERCİH EDİLDİ..."
   ]
  },
  {
   "cell_type": "markdown",
   "id": "3df5368d",
   "metadata": {},
   "source": [
    "### Modelimi K=5 ile %81.81 doğruluk oranında %80 veri ile eğitiyorum"
   ]
  },
  {
   "cell_type": "code",
   "execution_count": 20,
   "id": "51b28b1d-39f0-4efc-83cb-8230c0c32dc7",
   "metadata": {},
   "outputs": [
    {
     "name": "stdout",
     "output_type": "stream",
     "text": [
      "K=5 için Test verilerimizin doğrulama testi sonucu (Model Doğruluğu) = % 81.81818181818183\n"
     ]
    }
   ],
   "source": [
    "# En iyi K değeri olan 5 değerini modelime uyguluyorum. %81.81 doğruluk oranını tekrar test ediyorum. \n",
    "# %80 eğitim, %20 test, K=5\n",
    "\n",
    "x_train, x_test, y_train, y_test = train_test_split(x,y,test_size = 0.2,random_state=1)  \n",
    "knn = KNeighborsClassifier(n_neighbors =5)    \n",
    "knn.fit(x_train,y_train)                        \n",
    "prediction = knn.predict(x_test)                \n",
    "\n",
    "# K=7 için  Modelimin doğruluk oranını yazdırıyorum.\n",
    "print(\"K=5 için Test verilerimizin doğrulama testi sonucu (Model Doğruluğu) = %\", knn.score(x_test, y_test)*100) "
   ]
  },
  {
   "cell_type": "markdown",
   "id": "0156e40a",
   "metadata": {},
   "source": [
    "### Modelimin doğruluk oranını değişik K değerleri ve %Test Verisi değerleri ile kıyaslıyorum"
   ]
  },
  {
   "cell_type": "code",
   "execution_count": 21,
   "id": "d8b280b6-d96a-49d7-ab7e-9bafb1fd667b",
   "metadata": {},
   "outputs": [
    {
     "name": "stdout",
     "output_type": "stream",
     "text": [
      "K=5 için Test verilerimizin doğrulama testi sonucu (Model Doğruluğu) = % 77.92207792207793\n"
     ]
    }
   ],
   "source": [
    "# Eğer eğitici data sayımı %80 den %90 a yükseltirsem o zaman %10 test için kalacak.\n",
    "# %90 eğitim, %10 test, K=5\n",
    "\n",
    "x_train, x_test, y_train, y_test = train_test_split(x,y,test_size = 0.1,random_state=1)  #test_size=0.1 (%10 test için ayır)\n",
    "knn = KNeighborsClassifier(n_neighbors =5)  # K=5 \n",
    "knn.fit(x_train,y_train)                        \n",
    "prediction = knn.predict(x_test)                \n",
    "\n",
    "# K=7 için  Modelimin doğruluk oranını yazdırıyorum. En iyi sonucun %80 de olduğunu görüp töreleri kabul ediyorum :)\n",
    "print(\"K=5 için Test verilerimizin doğrulama testi sonucu (Model Doğruluğu) = %\", knn.score(x_test, y_test)*100) \n",
    "\n"
   ]
  },
  {
   "cell_type": "code",
   "execution_count": 22,
   "id": "1bd890ea-36d4-43e7-bc88-46bff7be67bb",
   "metadata": {},
   "outputs": [
    {
     "name": "stdout",
     "output_type": "stream",
     "text": [
      "K=7 için Test verilerimizin doğrulama testi sonucu (Model Doğruluğu) = % 77.92207792207793\n"
     ]
    }
   ],
   "source": [
    "# Eğer eğitici data sayımı %80 den %70 e indirirsem o zaman %30 test için kalacak.\n",
    "# %70 eğitim, %30 test, K=7\n",
    "\n",
    "x_train, x_test, y_train, y_test = train_test_split(x,y,test_size = 0.3,random_state=1)  #test_size=0.1 (%30 test için ayır)\n",
    "knn = KNeighborsClassifier(n_neighbors =5)  # K=5  \n",
    "knn.fit(x_train,y_train)                        \n",
    "prediction = knn.predict(x_test)                \n",
    "\n",
    "# K=5 için  Modelimin doğruluk oranını yazdırıyorum. Daha az öğrettiğim için daha da düşük doğruluk oranı beliyorum.\n",
    "print(\"K=7 için Test verilerimizin doğrulama testi sonucu (Model Doğruluğu) = %\", knn.score(x_test, y_test)*100) \n"
   ]
  },
  {
   "cell_type": "code",
   "execution_count": 23,
   "id": "d6fe566f-e45e-4a0e-b760-7580edae1523",
   "metadata": {},
   "outputs": [
    {
     "name": "stdout",
     "output_type": "stream",
     "text": [
      "K=7 için Test verilerimizin doğrulama testi sonucu (Model Doğruluğu) = % 77.34375\n"
     ]
    }
   ],
   "source": [
    "# Eğer eğitici data sayımı %80 den %50 e indirirsem o zaman %50 test için kalacak.\n",
    "# %50 eğitim, %50 test, K=7\n",
    "\n",
    "x_train, x_test, y_train, y_test = train_test_split(x,y,test_size = 0.5,random_state=1)  #test_size=0.1 (%30 test için ayır)\n",
    "knn = KNeighborsClassifier(n_neighbors =7)  # K=7  \n",
    "knn.fit(x_train,y_train)                        \n",
    "prediction = knn.predict(x_test)                \n",
    "\n",
    "# K=7 için  Modelimin doğruluk oranını yazdırıyorum. Daha az öğrettiğim için daha da düşük doğruluk oranı beliyorum.\n",
    "print(\"K=7 için Test verilerimizin doğrulama testi sonucu (Model Doğruluğu) = %\", knn.score(x_test, y_test)*100) \n"
   ]
  },
  {
   "cell_type": "markdown",
   "id": "1871fbcf",
   "metadata": {},
   "source": [
    "### Modelime Kesin Kararımı Verdim"
   ]
  },
  {
   "cell_type": "code",
   "execution_count": 24,
   "id": "23855da3-9f90-4cb9-b49d-5375636bff09",
   "metadata": {},
   "outputs": [
    {
     "name": "stdout",
     "output_type": "stream",
     "text": [
      "K=5, % 80 Veri Öğretimi ile TERCİH ETTİĞİM MODELİMİN DOĞRULUK ORANI = % 81.81818181818183\n"
     ]
    }
   ],
   "source": [
    "# Artık Modelimi oluşturdum ve değerleri buldum. Modele karar verdim.\n",
    "# %80 eğitim, %20 test, K=5 (%81.81 Doğruluk oranı) \n",
    "\n",
    "x_train, x_test, y_train, y_test = train_test_split(x,y,test_size = 0.2,random_state=1)  \n",
    "knn = KNeighborsClassifier(n_neighbors =5)    \n",
    "knn.fit(x_train,y_train)                        \n",
    "prediction = knn.predict(x_test)                \n",
    "\n",
    "# K=5 için  Modelimin doğruluk oranını yazdırıyorum.\n",
    "print(\"K=5, % 80 Veri Öğretimi ile TERCİH ETTİĞİM MODELİMİN DOĞRULUK ORANI = %\", knn.score(x_test, y_test)*100) "
   ]
  },
  {
   "cell_type": "markdown",
   "id": "9b54f70a-4227-433f-8ccb-7993e9e48f74",
   "metadata": {},
   "source": [
    "### Şimdi Hasta Tahmini İsteyeceğim"
   ]
  },
  {
   "cell_type": "code",
   "execution_count": 25,
   "id": "d910583b-0a01-427d-bb57-6f625ea81a2b",
   "metadata": {},
   "outputs": [
    {
     "data": {
      "text/html": [
       "<div>\n",
       "<style scoped>\n",
       "    .dataframe tbody tr th:only-of-type {\n",
       "        vertical-align: middle;\n",
       "    }\n",
       "\n",
       "    .dataframe tbody tr th {\n",
       "        vertical-align: top;\n",
       "    }\n",
       "\n",
       "    .dataframe thead th {\n",
       "        text-align: right;\n",
       "    }\n",
       "</style>\n",
       "<table border=\"1\" class=\"dataframe\">\n",
       "  <thead>\n",
       "    <tr style=\"text-align: right;\">\n",
       "      <th></th>\n",
       "      <th>Pregnancies</th>\n",
       "      <th>Glucose</th>\n",
       "      <th>BloodPressure</th>\n",
       "      <th>SkinThickness</th>\n",
       "      <th>Insulin</th>\n",
       "      <th>BMI</th>\n",
       "      <th>DiabetesPedigreeFunction</th>\n",
       "      <th>Age</th>\n",
       "      <th>Outcome</th>\n",
       "    </tr>\n",
       "  </thead>\n",
       "  <tbody>\n",
       "    <tr>\n",
       "      <th>0</th>\n",
       "      <td>6</td>\n",
       "      <td>148.0</td>\n",
       "      <td>72.0</td>\n",
       "      <td>35.00000</td>\n",
       "      <td>155.548223</td>\n",
       "      <td>33.6</td>\n",
       "      <td>0.627</td>\n",
       "      <td>50</td>\n",
       "      <td>1</td>\n",
       "    </tr>\n",
       "    <tr>\n",
       "      <th>1</th>\n",
       "      <td>1</td>\n",
       "      <td>85.0</td>\n",
       "      <td>66.0</td>\n",
       "      <td>29.00000</td>\n",
       "      <td>155.548223</td>\n",
       "      <td>26.6</td>\n",
       "      <td>0.351</td>\n",
       "      <td>31</td>\n",
       "      <td>0</td>\n",
       "    </tr>\n",
       "    <tr>\n",
       "      <th>2</th>\n",
       "      <td>8</td>\n",
       "      <td>183.0</td>\n",
       "      <td>64.0</td>\n",
       "      <td>29.15342</td>\n",
       "      <td>155.548223</td>\n",
       "      <td>23.3</td>\n",
       "      <td>0.672</td>\n",
       "      <td>32</td>\n",
       "      <td>1</td>\n",
       "    </tr>\n",
       "    <tr>\n",
       "      <th>3</th>\n",
       "      <td>1</td>\n",
       "      <td>89.0</td>\n",
       "      <td>66.0</td>\n",
       "      <td>23.00000</td>\n",
       "      <td>94.000000</td>\n",
       "      <td>28.1</td>\n",
       "      <td>0.167</td>\n",
       "      <td>21</td>\n",
       "      <td>0</td>\n",
       "    </tr>\n",
       "    <tr>\n",
       "      <th>4</th>\n",
       "      <td>0</td>\n",
       "      <td>137.0</td>\n",
       "      <td>40.0</td>\n",
       "      <td>35.00000</td>\n",
       "      <td>168.000000</td>\n",
       "      <td>43.1</td>\n",
       "      <td>2.288</td>\n",
       "      <td>33</td>\n",
       "      <td>1</td>\n",
       "    </tr>\n",
       "  </tbody>\n",
       "</table>\n",
       "</div>"
      ],
      "text/plain": [
       "   Pregnancies  Glucose  BloodPressure  SkinThickness     Insulin   BMI  \\\n",
       "0            6    148.0           72.0       35.00000  155.548223  33.6   \n",
       "1            1     85.0           66.0       29.00000  155.548223  26.6   \n",
       "2            8    183.0           64.0       29.15342  155.548223  23.3   \n",
       "3            1     89.0           66.0       23.00000   94.000000  28.1   \n",
       "4            0    137.0           40.0       35.00000  168.000000  43.1   \n",
       "\n",
       "   DiabetesPedigreeFunction  Age  Outcome  \n",
       "0                     0.627   50        1  \n",
       "1                     0.351   31        0  \n",
       "2                     0.672   32        1  \n",
       "3                     0.167   21        0  \n",
       "4                     2.288   33        1  "
      ]
     },
     "execution_count": 25,
     "metadata": {},
     "output_type": "execute_result"
    }
   ],
   "source": [
    "#DataSet verilerimi tekrar yazdırıyorum\n",
    "data.head()"
   ]
  },
  {
   "cell_type": "code",
   "execution_count": 26,
   "id": "235461b3-8fbb-4b75-b64d-00e98bea3bb5",
   "metadata": {},
   "outputs": [
    {
     "name": "stdout",
     "output_type": "stream",
     "text": [
      "Şeker Hastası\n"
     ]
    },
    {
     "name": "stderr",
     "output_type": "stream",
     "text": [
      "C:\\ProgramData\\Anaconda3\\lib\\site-packages\\sklearn\\base.py:450: UserWarning: X does not have valid feature names, but MinMaxScaler was fitted with feature names\n",
      "  warnings.warn(\n",
      "C:\\ProgramData\\Anaconda3\\lib\\site-packages\\sklearn\\base.py:450: UserWarning: X does not have valid feature names, but KNeighborsClassifier was fitted with feature names\n",
      "  warnings.warn(\n"
     ]
    }
   ],
   "source": [
    "# Yeni bir hasta tahmini için kütüphaneyi çağırıyorum.\n",
    "from sklearn.preprocessing import MinMaxScaler\n",
    "\n",
    "# normalization yapıyorum - daha hızlı normalization yapabilmek için MinMax  scaler kullandım...\n",
    "sc = MinMaxScaler()\n",
    "sc.fit_transform(x_ham_veri)\n",
    "\n",
    "# Değerleri sırasıyla veriyorum. \n",
    "# İlk kaydın (şeker hastasıolarak verilen) verilerini girip test ediyorum. %81.81 ihtimalle \"şeker hastası\" çıkmalı sonuç.\n",
    "\n",
    "new_prediction = knn.predict(sc.transform(np.array([[6,148,72,35,155,33.6,0.627,50]]))) \n",
    "\n",
    "#Sonuç 0 gelirse sağlıklı insan , 1 Gelirse Şeker Hastası insan tahminini anlıyorum. \n",
    "\n",
    "if(new_prediction[0]==1):\n",
    "    print (\"Şeker Hastası\")\n",
    "else:\n",
    "    print (\"Sağlıklı İnsan\")"
   ]
  },
  {
   "cell_type": "code",
   "execution_count": 27,
   "id": "b54e083b",
   "metadata": {},
   "outputs": [
    {
     "name": "stdout",
     "output_type": "stream",
     "text": [
      "Sağlıklı İnsan\n"
     ]
    },
    {
     "name": "stderr",
     "output_type": "stream",
     "text": [
      "C:\\ProgramData\\Anaconda3\\lib\\site-packages\\sklearn\\base.py:450: UserWarning: X does not have valid feature names, but MinMaxScaler was fitted with feature names\n",
      "  warnings.warn(\n",
      "C:\\ProgramData\\Anaconda3\\lib\\site-packages\\sklearn\\base.py:450: UserWarning: X does not have valid feature names, but KNeighborsClassifier was fitted with feature names\n",
      "  warnings.warn(\n"
     ]
    }
   ],
   "source": [
    "# Yeni bir hasta tahmini için kütüphaneyi çağırıyorum.\n",
    "from sklearn.preprocessing import MinMaxScaler\n",
    "\n",
    "# normalization yapıyoruz - daha hızlı normalization yapabilmek için MinMax  scaler kullandım...\n",
    "sc = MinMaxScaler()\n",
    "sc.fit_transform(x_ham_veri)\n",
    "\n",
    "#Değerleri sırasıyla veriyorum. \n",
    "# İkinci kaydın (sağlıklı) verilerini girip test ediyorum. %81 ihtimalle \"Sağlıklı İnsan\" çıkmalı sonuç.\n",
    "\n",
    "new_prediction = knn.predict(sc.transform(np.array([[1,85,66,29,155,26.6,0.351,31]]))) \n",
    "\n",
    "#Sonuç 0 gelirse sağlıklı insan , 1 Gelirse Şeker Hastası insan tahminini anlıyorum.\n",
    "\n",
    "if(new_prediction[0]==1): #Sonuç 0 gelirse sağlıklı insan , 1 Gelirse Şeker Hastası insan tahminini anlıyorum. \n",
    "    print (\"Şeker Hastası\")\n",
    "else:\n",
    "    print (\"Sağlıklı İnsan\")"
   ]
  },
  {
   "cell_type": "markdown",
   "id": "2f7e3833",
   "metadata": {},
   "source": [
    "### Sonuç: KNN Algoritması ile oluşturduğum mıdelim %81.81 oran ile doğru tahmin üretmektedir."
   ]
  }
 ],
 "metadata": {
  "kernelspec": {
   "display_name": "Python 3 (ipykernel)",
   "language": "python",
   "name": "python3"
  },
  "language_info": {
   "codemirror_mode": {
    "name": "ipython",
    "version": 3
   },
   "file_extension": ".py",
   "mimetype": "text/x-python",
   "name": "python",
   "nbconvert_exporter": "python",
   "pygments_lexer": "ipython3",
   "version": "3.9.12"
  }
 },
 "nbformat": 4,
 "nbformat_minor": 5
}
